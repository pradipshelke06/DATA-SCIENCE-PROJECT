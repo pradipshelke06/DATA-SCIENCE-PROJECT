{
 "cells": [
  {
   "cell_type": "code",
   "execution_count": 7,
   "id": "c4023519-0bf5-44c0-9a48-da33e0a7fdc3",
   "metadata": {},
   "outputs": [],
   "source": [
    "import pandas as pd\n",
    "import numpy as np\n",
    "import warnings\n",
    "warnings.filterwarnings('ignore')"
   ]
  },
  {
   "cell_type": "code",
   "execution_count": 9,
   "id": "53d7d0ba-901f-44fe-945b-e8a21ecfdb3d",
   "metadata": {},
   "outputs": [],
   "source": [
    "df = pd.read_csv('Advertising.csv')"
   ]
  },
  {
   "cell_type": "code",
   "execution_count": 10,
   "id": "b589ae50-d0f5-4ca9-a3ea-e2e020064a92",
   "metadata": {},
   "outputs": [
    {
     "data": {
      "text/html": [
       "<div>\n",
       "<style scoped>\n",
       "    .dataframe tbody tr th:only-of-type {\n",
       "        vertical-align: middle;\n",
       "    }\n",
       "\n",
       "    .dataframe tbody tr th {\n",
       "        vertical-align: top;\n",
       "    }\n",
       "\n",
       "    .dataframe thead th {\n",
       "        text-align: right;\n",
       "    }\n",
       "</style>\n",
       "<table border=\"1\" class=\"dataframe\">\n",
       "  <thead>\n",
       "    <tr style=\"text-align: right;\">\n",
       "      <th></th>\n",
       "      <th>Unnamed: 0</th>\n",
       "      <th>TV</th>\n",
       "      <th>Radio</th>\n",
       "      <th>Newspaper</th>\n",
       "      <th>Sales</th>\n",
       "    </tr>\n",
       "  </thead>\n",
       "  <tbody>\n",
       "    <tr>\n",
       "      <th>0</th>\n",
       "      <td>1</td>\n",
       "      <td>230.1</td>\n",
       "      <td>37.8</td>\n",
       "      <td>69.2</td>\n",
       "      <td>22.1</td>\n",
       "    </tr>\n",
       "    <tr>\n",
       "      <th>1</th>\n",
       "      <td>2</td>\n",
       "      <td>44.5</td>\n",
       "      <td>39.3</td>\n",
       "      <td>45.1</td>\n",
       "      <td>10.4</td>\n",
       "    </tr>\n",
       "    <tr>\n",
       "      <th>2</th>\n",
       "      <td>3</td>\n",
       "      <td>17.2</td>\n",
       "      <td>45.9</td>\n",
       "      <td>69.3</td>\n",
       "      <td>9.3</td>\n",
       "    </tr>\n",
       "    <tr>\n",
       "      <th>3</th>\n",
       "      <td>4</td>\n",
       "      <td>151.5</td>\n",
       "      <td>41.3</td>\n",
       "      <td>58.5</td>\n",
       "      <td>18.5</td>\n",
       "    </tr>\n",
       "    <tr>\n",
       "      <th>4</th>\n",
       "      <td>5</td>\n",
       "      <td>180.8</td>\n",
       "      <td>10.8</td>\n",
       "      <td>58.4</td>\n",
       "      <td>12.9</td>\n",
       "    </tr>\n",
       "  </tbody>\n",
       "</table>\n",
       "</div>"
      ],
      "text/plain": [
       "   Unnamed: 0     TV  Radio  Newspaper  Sales\n",
       "0           1  230.1   37.8       69.2   22.1\n",
       "1           2   44.5   39.3       45.1   10.4\n",
       "2           3   17.2   45.9       69.3    9.3\n",
       "3           4  151.5   41.3       58.5   18.5\n",
       "4           5  180.8   10.8       58.4   12.9"
      ]
     },
     "execution_count": 10,
     "metadata": {},
     "output_type": "execute_result"
    }
   ],
   "source": [
    "df.head()"
   ]
  },
  {
   "cell_type": "code",
   "execution_count": 11,
   "id": "9dd8e74e-b8e7-44d4-a409-fa118b33ac9f",
   "metadata": {},
   "outputs": [
    {
     "data": {
      "text/plain": [
       "(200, 5)"
      ]
     },
     "execution_count": 11,
     "metadata": {},
     "output_type": "execute_result"
    }
   ],
   "source": [
    "df.shape"
   ]
  },
  {
   "cell_type": "code",
   "execution_count": 12,
   "id": "96ab40d9-626b-42ae-bb88-0956d0eabc7e",
   "metadata": {},
   "outputs": [
    {
     "data": {
      "text/plain": [
       "['Unnamed: 0', 'TV', 'Radio', 'Newspaper', 'Sales']"
      ]
     },
     "execution_count": 12,
     "metadata": {},
     "output_type": "execute_result"
    }
   ],
   "source": [
    "df.columns.values.tolist()"
   ]
  },
  {
   "cell_type": "code",
   "execution_count": 13,
   "id": "a1536ba6-b5d2-4268-a481-d10f54769efa",
   "metadata": {},
   "outputs": [
    {
     "name": "stdout",
     "output_type": "stream",
     "text": [
      "<class 'pandas.core.frame.DataFrame'>\n",
      "RangeIndex: 200 entries, 0 to 199\n",
      "Data columns (total 5 columns):\n",
      " #   Column      Non-Null Count  Dtype  \n",
      "---  ------      --------------  -----  \n",
      " 0   Unnamed: 0  200 non-null    int64  \n",
      " 1   TV          200 non-null    float64\n",
      " 2   Radio       200 non-null    float64\n",
      " 3   Newspaper   200 non-null    float64\n",
      " 4   Sales       200 non-null    float64\n",
      "dtypes: float64(4), int64(1)\n",
      "memory usage: 7.9 KB\n"
     ]
    }
   ],
   "source": [
    "df.info()"
   ]
  },
  {
   "cell_type": "code",
   "execution_count": 14,
   "id": "be63e747-8f91-4890-ab18-24c0d19ba3cc",
   "metadata": {},
   "outputs": [
    {
     "data": {
      "text/html": [
       "<div>\n",
       "<style scoped>\n",
       "    .dataframe tbody tr th:only-of-type {\n",
       "        vertical-align: middle;\n",
       "    }\n",
       "\n",
       "    .dataframe tbody tr th {\n",
       "        vertical-align: top;\n",
       "    }\n",
       "\n",
       "    .dataframe thead th {\n",
       "        text-align: right;\n",
       "    }\n",
       "</style>\n",
       "<table border=\"1\" class=\"dataframe\">\n",
       "  <thead>\n",
       "    <tr style=\"text-align: right;\">\n",
       "      <th></th>\n",
       "      <th>Unnamed: 0</th>\n",
       "      <th>TV</th>\n",
       "      <th>Radio</th>\n",
       "      <th>Newspaper</th>\n",
       "      <th>Sales</th>\n",
       "    </tr>\n",
       "  </thead>\n",
       "  <tbody>\n",
       "    <tr>\n",
       "      <th>count</th>\n",
       "      <td>200.000000</td>\n",
       "      <td>200.000000</td>\n",
       "      <td>200.000000</td>\n",
       "      <td>200.000000</td>\n",
       "      <td>200.000000</td>\n",
       "    </tr>\n",
       "    <tr>\n",
       "      <th>mean</th>\n",
       "      <td>100.500000</td>\n",
       "      <td>147.042500</td>\n",
       "      <td>23.264000</td>\n",
       "      <td>30.554000</td>\n",
       "      <td>14.022500</td>\n",
       "    </tr>\n",
       "    <tr>\n",
       "      <th>std</th>\n",
       "      <td>57.879185</td>\n",
       "      <td>85.854236</td>\n",
       "      <td>14.846809</td>\n",
       "      <td>21.778621</td>\n",
       "      <td>5.217457</td>\n",
       "    </tr>\n",
       "    <tr>\n",
       "      <th>min</th>\n",
       "      <td>1.000000</td>\n",
       "      <td>0.700000</td>\n",
       "      <td>0.000000</td>\n",
       "      <td>0.300000</td>\n",
       "      <td>1.600000</td>\n",
       "    </tr>\n",
       "    <tr>\n",
       "      <th>25%</th>\n",
       "      <td>50.750000</td>\n",
       "      <td>74.375000</td>\n",
       "      <td>9.975000</td>\n",
       "      <td>12.750000</td>\n",
       "      <td>10.375000</td>\n",
       "    </tr>\n",
       "    <tr>\n",
       "      <th>50%</th>\n",
       "      <td>100.500000</td>\n",
       "      <td>149.750000</td>\n",
       "      <td>22.900000</td>\n",
       "      <td>25.750000</td>\n",
       "      <td>12.900000</td>\n",
       "    </tr>\n",
       "    <tr>\n",
       "      <th>75%</th>\n",
       "      <td>150.250000</td>\n",
       "      <td>218.825000</td>\n",
       "      <td>36.525000</td>\n",
       "      <td>45.100000</td>\n",
       "      <td>17.400000</td>\n",
       "    </tr>\n",
       "    <tr>\n",
       "      <th>max</th>\n",
       "      <td>200.000000</td>\n",
       "      <td>296.400000</td>\n",
       "      <td>49.600000</td>\n",
       "      <td>114.000000</td>\n",
       "      <td>27.000000</td>\n",
       "    </tr>\n",
       "  </tbody>\n",
       "</table>\n",
       "</div>"
      ],
      "text/plain": [
       "       Unnamed: 0          TV       Radio   Newspaper       Sales\n",
       "count  200.000000  200.000000  200.000000  200.000000  200.000000\n",
       "mean   100.500000  147.042500   23.264000   30.554000   14.022500\n",
       "std     57.879185   85.854236   14.846809   21.778621    5.217457\n",
       "min      1.000000    0.700000    0.000000    0.300000    1.600000\n",
       "25%     50.750000   74.375000    9.975000   12.750000   10.375000\n",
       "50%    100.500000  149.750000   22.900000   25.750000   12.900000\n",
       "75%    150.250000  218.825000   36.525000   45.100000   17.400000\n",
       "max    200.000000  296.400000   49.600000  114.000000   27.000000"
      ]
     },
     "execution_count": 14,
     "metadata": {},
     "output_type": "execute_result"
    }
   ],
   "source": [
    "df.describe()"
   ]
  },
  {
   "cell_type": "code",
   "execution_count": 15,
   "id": "1f83e48b-c3ca-4bbc-95ac-eafe2eaf4ba1",
   "metadata": {},
   "outputs": [
    {
     "data": {
      "text/plain": [
       "Unnamed: 0    0\n",
       "TV            0\n",
       "Radio         0\n",
       "Newspaper     0\n",
       "Sales         0\n",
       "dtype: int64"
      ]
     },
     "execution_count": 15,
     "metadata": {},
     "output_type": "execute_result"
    }
   ],
   "source": [
    "df.isnull().sum()"
   ]
  },
  {
   "cell_type": "code",
   "execution_count": 19,
   "id": "f22fc697-ba21-419d-92f3-fb1cf3121c51",
   "metadata": {},
   "outputs": [],
   "source": [
    "import matplotlib.pyplot as plt\n",
    "import seaborn as sns"
   ]
  },
  {
   "cell_type": "code",
   "execution_count": 20,
   "id": "c3290b39-b414-475b-813d-f20b7c755878",
   "metadata": {},
   "outputs": [
    {
     "data": {
      "image/png": "[encoded data removed]",
      "text/plain": [
       "<Figure size 500x500 with 3 Axes>"
      ]
     },
     "metadata": {},
     "output_type": "display_data"
    }
   ],
   "source": [
    "fig, axs = plt.subplots(3, figsize = (5,5))\n",
    "plt1 = sns.boxplot(df['TV'], ax = axs[0])\n",
    "plt2 = sns.boxplot(df['Newspaper'], ax = axs[1])\n",
    "plt3 = sns.boxplot(df['Radio'], ax = axs[2])\n",
    "plt.tight_layout()"
   ]
  },
  {
   "cell_type": "code",
   "execution_count": 21,
   "id": "4bd5031a-6e12-42dd-936d-8f62d8e11b1f",
   "metadata": {},
   "outputs": [
    {
     "data": {
      "text/plain": [
       "<AxesSubplot: xlabel='Newspaper', ylabel='Density'>"
      ]
     },
     "execution_count": 21,
     "metadata": {},
     "output_type": "execute_result"
    },
    {
     "data": {
      "image/png": "[encoded data removed]",
      "text/plain": [
       "<Figure size 640x480 with 1 Axes>"
      ]
     },
     "metadata": {},
     "output_type": "display_data"
    }
   ],
   "source": [
    "sns.distplot(df['Newspaper'])"
   ]
  },
  {
   "cell_type": "code",
   "execution_count": 23,
   "id": "0c7987cb-0150-4034-a8a4-ea777cebabc9",
   "metadata": {},
   "outputs": [],
   "source": [
    "iqr = df.Newspaper.quantile(0.75) - df.Newspaper.quantile(0.25)"
   ]
  },
  {
   "cell_type": "code",
   "execution_count": 24,
   "id": "499cdbee-befa-4ab1-b641-bfd95c79a391",
   "metadata": {},
   "outputs": [
    {
     "name": "stdout",
     "output_type": "stream",
     "text": [
      "-35.775000000000006\n",
      "93.625\n"
     ]
    }
   ],
   "source": [
    "lower_bridge = df[\"Newspaper\"].quantile(0.25) - (iqr*1.5)\n",
    "upper_bridge = df[\"Newspaper\"].quantile(0.75) + (iqr*1.5)\n",
    "print(lower_bridge)\n",
    "print(upper_bridge)"
   ]
  },
  {
   "cell_type": "code",
   "execution_count": 26,
   "id": "167024cb-b131-40db-8b03-f2bcc01709a4",
   "metadata": {},
   "outputs": [],
   "source": [
    "data = df.copy()"
   ]
  },
  {
   "cell_type": "code",
   "execution_count": 29,
   "id": "f1464eb4-eb48-4c70-b316-e711530579a3",
   "metadata": {},
   "outputs": [],
   "source": [
    "data.loc[data['Newspaper']>=93, 'Newspaper']=93"
   ]
  },
  {
   "cell_type": "code",
   "execution_count": 30,
   "id": "3abb4501-1180-4d1a-b760-92978fc82b53",
   "metadata": {},
   "outputs": [
    {
     "data": {
      "text/plain": [
       "<AxesSubplot: >"
      ]
     },
     "execution_count": 30,
     "metadata": {},
     "output_type": "execute_result"
    },
    {
     "data": {
      "image/png": "[encoded data removed]",
      "text/plain": [
       "<Figure size 640x480 with 1 Axes>"
      ]
     },
     "metadata": {},
     "output_type": "display_data"
    }
   ],
   "source": [
    "sns.boxplot(data['Newspaper'])"
   ]
  },
  {
   "cell_type": "code",
   "execution_count": 31,
   "id": "b5bd91fc-5ab6-4264-92e6-4e555edfafe7",
   "metadata": {},
   "outputs": [
    {
     "data": {
      "text/plain": [
       "<AxesSubplot: >"
      ]
     },
     "execution_count": 31,
     "metadata": {},
     "output_type": "execute_result"
    },
    {
     "data": {
      "image/png": "[encoded data removed]",
      "text/plain": [
       "<Figure size 640x480 with 1 Axes>"
      ]
     },
     "metadata": {},
     "output_type": "display_data"
    }
   ],
   "source": [
    "sns.boxplot(data['Sales'])"
   ]
  },
  {
   "cell_type": "code",
   "execution_count": 61,
   "id": "1ff6ddde-6c7f-4da7-bf8b-fa4308d270dd",
   "metadata": {},
   "outputs": [
    {
     "data": {
      "image/png": "[encoded data removed]",
      "text/plain": [
       "<Figure size 1200x400 with 3 Axes>"
      ]
     },
     "metadata": {},
     "output_type": "display_data"
    }
   ],
   "source": [
    "sns.pairplot(data, x_vars=['TV', 'Newspaper', 'Radio'],\n",
    "            y_vars='Sales', height=4, aspect=1, kind='scatter')\n",
    "plt.show()"
   ]
  },
  {
   "cell_type": "code",
   "execution_count": 44,
   "id": "b48c2323-6545-4da6-943d-83a9c7209012",
   "metadata": {},
   "outputs": [
    {
     "data": {
      "image/png": "[encoded data removed]",
      "text/plain": [
       "<Figure size 640x480 with 2 Axes>"
      ]
     },
     "metadata": {},
     "output_type": "display_data"
    }
   ],
   "source": [
    "sns.heatmap(data.corr(), cmap=\"YlGnBu\", annot = True)\n",
    "plt.show()"
   ]
  },
  {
   "cell_type": "code",
   "execution_count": 48,
   "id": "9ffe1058-8d10-4d77-a9ea-32241c134e16",
   "metadata": {},
   "outputs": [],
   "source": [
    "important_features = list(df.corr()['Sales'][(df.corr()['Sales']>+0.5)|(df.corr()['Sales']<-0.5)].index)"
   ]
  },
  {
   "cell_type": "code",
   "execution_count": 51,
   "id": "1d8bd39b-676e-406a-b1e2-2133bba8e9a1",
   "metadata": {},
   "outputs": [
    {
     "name": "stdout",
     "output_type": "stream",
     "text": [
      "['TV', 'Radio', 'Sales']\n"
     ]
    }
   ],
   "source": [
    "print(important_features)"
   ]
  },
  {
   "cell_type": "code",
   "execution_count": 52,
   "id": "bf59890f-4e84-48e9-8d8a-70c083be3c90",
   "metadata": {},
   "outputs": [],
   "source": [
    "x=data['TV']\n",
    "y=data['Sales']"
   ]
  },
  {
   "cell_type": "code",
   "execution_count": 53,
   "id": "81bc685e-8940-4a21-8df0-1ffe55f4ae99",
   "metadata": {},
   "outputs": [],
   "source": [
    "x=x.values.reshape(-1,1)"
   ]
  },
  {
   "cell_type": "code",
   "execution_count": 54,
   "id": "a372cc11-e4ea-4380-9f32-d501281203b2",
   "metadata": {},
   "outputs": [
    {
     "data": {
      "text/plain": [
       "array([[230.1],\n",
       "       [ 44.5],\n",
       "       [ 17.2],\n",
       "       [151.5],\n",
       "       [180.8],\n",
       "       [  8.7],\n",
       "       [ 57.5],\n",
       "       [120.2],\n",
       "       [  8.6],\n",
       "       [199.8],\n",
       "       [ 66.1],\n",
       "       [214.7],\n",
       "       [ 23.8],\n",
       "       [ 97.5],\n",
       "       [204.1],\n",
       "       [195.4],\n",
       "       [ 67.8],\n",
       "       [281.4],\n",
       "       [ 69.2],\n",
       "       [147.3],\n",
       "       [218.4],\n",
       "       [237.4],\n",
       "       [ 13.2],\n",
       "       [228.3],\n",
       "       [ 62.3],\n",
       "       [262.9],\n",
       "       [142.9],\n",
       "       [240.1],\n",
       "       [248.8],\n",
       "       [ 70.6],\n",
       "       [292.9],\n",
       "       [112.9],\n",
       "       [ 97.2],\n",
       "       [265.6],\n",
       "       [ 95.7],\n",
       "       [290.7],\n",
       "       [266.9],\n",
       "       [ 74.7],\n",
       "       [ 43.1],\n",
       "       [228. ],\n",
       "       [202.5],\n",
       "       [177. ],\n",
       "       [293.6],\n",
       "       [206.9],\n",
       "       [ 25.1],\n",
       "       [175.1],\n",
       "       [ 89.7],\n",
       "       [239.9],\n",
       "       [227.2],\n",
       "       [ 66.9],\n",
       "       [199.8],\n",
       "       [100.4],\n",
       "       [216.4],\n",
       "       [182.6],\n",
       "       [262.7],\n",
       "       [198.9],\n",
       "       [  7.3],\n",
       "       [136.2],\n",
       "       [210.8],\n",
       "       [210.7],\n",
       "       [ 53.5],\n",
       "       [261.3],\n",
       "       [239.3],\n",
       "       [102.7],\n",
       "       [131.1],\n",
       "       [ 69. ],\n",
       "       [ 31.5],\n",
       "       [139.3],\n",
       "       [237.4],\n",
       "       [216.8],\n",
       "       [199.1],\n",
       "       [109.8],\n",
       "       [ 26.8],\n",
       "       [129.4],\n",
       "       [213.4],\n",
       "       [ 16.9],\n",
       "       [ 27.5],\n",
       "       [120.5],\n",
       "       [  5.4],\n",
       "       [116. ],\n",
       "       [ 76.4],\n",
       "       [239.8],\n",
       "       [ 75.3],\n",
       "       [ 68.4],\n",
       "       [213.5],\n",
       "       [193.2],\n",
       "       [ 76.3],\n",
       "       [110.7],\n",
       "       [ 88.3],\n",
       "       [109.8],\n",
       "       [134.3],\n",
       "       [ 28.6],\n",
       "       [217.7],\n",
       "       [250.9],\n",
       "       [107.4],\n",
       "       [163.3],\n",
       "       [197.6],\n",
       "       [184.9],\n",
       "       [289.7],\n",
       "       [135.2],\n",
       "       [222.4],\n",
       "       [296.4],\n",
       "       [280.2],\n",
       "       [187.9],\n",
       "       [238.2],\n",
       "       [137.9],\n",
       "       [ 25. ],\n",
       "       [ 90.4],\n",
       "       [ 13.1],\n",
       "       [255.4],\n",
       "       [225.8],\n",
       "       [241.7],\n",
       "       [175.7],\n",
       "       [209.6],\n",
       "       [ 78.2],\n",
       "       [ 75.1],\n",
       "       [139.2],\n",
       "       [ 76.4],\n",
       "       [125.7],\n",
       "       [ 19.4],\n",
       "       [141.3],\n",
       "       [ 18.8],\n",
       "       [224. ],\n",
       "       [123.1],\n",
       "       [229.5],\n",
       "       [ 87.2],\n",
       "       [  7.8],\n",
       "       [ 80.2],\n",
       "       [220.3],\n",
       "       [ 59.6],\n",
       "       [  0.7],\n",
       "       [265.2],\n",
       "       [  8.4],\n",
       "       [219.8],\n",
       "       [ 36.9],\n",
       "       [ 48.3],\n",
       "       [ 25.6],\n",
       "       [273.7],\n",
       "       [ 43. ],\n",
       "       [184.9],\n",
       "       [ 73.4],\n",
       "       [193.7],\n",
       "       [220.5],\n",
       "       [104.6],\n",
       "       [ 96.2],\n",
       "       [140.3],\n",
       "       [240.1],\n",
       "       [243.2],\n",
       "       [ 38. ],\n",
       "       [ 44.7],\n",
       "       [280.7],\n",
       "       [121. ],\n",
       "       [197.6],\n",
       "       [171.3],\n",
       "       [187.8],\n",
       "       [  4.1],\n",
       "       [ 93.9],\n",
       "       [149.8],\n",
       "       [ 11.7],\n",
       "       [131.7],\n",
       "       [172.5],\n",
       "       [ 85.7],\n",
       "       [188.4],\n",
       "       [163.5],\n",
       "       [117.2],\n",
       "       [234.5],\n",
       "       [ 17.9],\n",
       "       [206.8],\n",
       "       [215.4],\n",
       "       [284.3],\n",
       "       [ 50. ],\n",
       "       [164.5],\n",
       "       [ 19.6],\n",
       "       [168.4],\n",
       "       [222.4],\n",
       "       [276.9],\n",
       "       [248.4],\n",
       "       [170.2],\n",
       "       [276.7],\n",
       "       [165.6],\n",
       "       [156.6],\n",
       "       [218.5],\n",
       "       [ 56.2],\n",
       "       [287.6],\n",
       "       [253.8],\n",
       "       [205. ],\n",
       "       [139.5],\n",
       "       [191.1],\n",
       "       [286. ],\n",
       "       [ 18.7],\n",
       "       [ 39.5],\n",
       "       [ 75.5],\n",
       "       [ 17.2],\n",
       "       [166.8],\n",
       "       [149.7],\n",
       "       [ 38.2],\n",
       "       [ 94.2],\n",
       "       [177. ],\n",
       "       [283.6],\n",
       "       [232.1]])"
      ]
     },
     "execution_count": 54,
     "metadata": {},
     "output_type": "execute_result"
    }
   ],
   "source": [
    "x"
   ]
  },
  {
   "cell_type": "code",
   "execution_count": 55,
   "id": "09ab0174-2ee7-4035-8b8f-cde7e81ffaa8",
   "metadata": {},
   "outputs": [
    {
     "data": {
      "text/plain": [
       "0      22.1\n",
       "1      10.4\n",
       "2       9.3\n",
       "3      18.5\n",
       "4      12.9\n",
       "       ... \n",
       "195     7.6\n",
       "196     9.7\n",
       "197    12.8\n",
       "198    25.5\n",
       "199    13.4\n",
       "Name: Sales, Length: 200, dtype: float64"
      ]
     },
     "execution_count": 55,
     "metadata": {},
     "output_type": "execute_result"
    }
   ],
   "source": [
    "y"
   ]
  },
  {
   "cell_type": "code",
   "execution_count": 56,
   "id": "b1f571fe-5457-4534-8f0f-f09e207e221d",
   "metadata": {},
   "outputs": [
    {
     "name": "stdout",
     "output_type": "stream",
     "text": [
      "(200, 1) (200,)\n"
     ]
    }
   ],
   "source": [
    "print(x.shape,y.shape)"
   ]
  },
  {
   "cell_type": "code",
   "execution_count": 63,
   "id": "7edac0c5-144c-4190-82a0-8aebb80fa72c",
   "metadata": {},
   "outputs": [],
   "source": [
    "from sklearn.model_selection import train_test_split\n",
    "X_train,X_test,y_train,y_test=train_test_split(x,y, test_size=0.33)"
   ]
  },
  {
   "cell_type": "code",
   "execution_count": 64,
   "id": "4e833c38-df75-4eff-aa95-3ef380615ad8",
   "metadata": {},
   "outputs": [
    {
     "name": "stdout",
     "output_type": "stream",
     "text": [
      "(134, 1) (134,)\n"
     ]
    }
   ],
   "source": [
    "print(X_train.shape,y_train.shape)"
   ]
  },
  {
   "cell_type": "code",
   "execution_count": 65,
   "id": "fdd6c99c-c506-4ba9-a597-3f58869bc8e9",
   "metadata": {},
   "outputs": [],
   "source": [
    "from sklearn.metrics import  mean_squared_error , r2_score\n",
    "from sklearn.model_selection import cross_val_score,GridSearchCV\n",
    "from sklearn.neighbors import KNeighborsRegressor\n",
    "from sklearn.svm import SVR\n",
    "from sklearn.tree import DecisionTreeRegressor\n",
    "from sklearn.ensemble import RandomForestRegressor\n",
    "     \n"
   ]
  },
  {
   "cell_type": "code",
   "execution_count": 66,
   "id": "e92b22b0-02db-4832-960f-07eda1fb787c",
   "metadata": {},
   "outputs": [
    {
     "data": {
      "text/html": [
       "<style>#sk-container-id-1 {color: black;background-color: white;}#sk-container-id-1 pre{padding: 0;}#sk-container-id-1 div.sk-toggleable {background-color: white;}#sk-container-id-1 label.sk-toggleable__label {cursor: pointer;display: block;width: 100%;margin-bottom: 0;padding: 0.3em;box-sizing: border-box;text-align: center;}#sk-container-id-1 label.sk-toggleable__label-arrow:before {content: \"▸\";float: left;margin-right: 0.25em;color: #696969;}#sk-container-id-1 label.sk-toggleable__label-arrow:hover:before {color: black;}#sk-container-id-1 div.sk-estimator:hover label.sk-toggleable__label-arrow:before {color: black;}#sk-container-id-1 div.sk-toggleable__content {max-height: 0;max-width: 0;overflow: hidden;text-align: left;background-color: #f0f8ff;}#sk-container-id-1 div.sk-toggleable__content pre {margin: 0.2em;color: black;border-radius: 0.25em;background-color: #f0f8ff;}#sk-container-id-1 input.sk-toggleable__control:checked~div.sk-toggleable__content {max-height: 200px;max-width: 100%;overflow: auto;}#sk-container-id-1 input.sk-toggleable__control:checked~label.sk-toggleable__label-arrow:before {content: \"▾\";}#sk-container-id-1 div.sk-estimator input.sk-toggleable__control:checked~label.sk-toggleable__label {background-color: #d4ebff;}#sk-container-id-1 div.sk-label input.sk-toggleable__control:checked~label.sk-toggleable__label {background-color: #d4ebff;}#sk-container-id-1 input.sk-hidden--visually {border: 0;clip: rect(1px 1px 1px 1px);clip: rect(1px, 1px, 1px, 1px);height: 1px;margin: -1px;overflow: hidden;padding: 0;position: absolute;width: 1px;}#sk-container-id-1 div.sk-estimator {font-family: monospace;background-color: #f0f8ff;border: 1px dotted black;border-radius: 0.25em;box-sizing: border-box;margin-bottom: 0.5em;}#sk-container-id-1 div.sk-estimator:hover {background-color: #d4ebff;}#sk-container-id-1 div.sk-parallel-item::after {content: \"\";width: 100%;border-bottom: 1px solid gray;flex-grow: 1;}#sk-container-id-1 div.sk-label:hover label.sk-toggleable__label {background-color: #d4ebff;}#sk-container-id-1 div.sk-serial::before {content: \"\";position: absolute;border-left: 1px solid gray;box-sizing: border-box;top: 0;bottom: 0;left: 50%;z-index: 0;}#sk-container-id-1 div.sk-serial {display: flex;flex-direction: column;align-items: center;background-color: white;padding-right: 0.2em;padding-left: 0.2em;position: relative;}#sk-container-id-1 div.sk-item {position: relative;z-index: 1;}#sk-container-id-1 div.sk-parallel {display: flex;align-items: stretch;justify-content: center;background-color: white;position: relative;}#sk-container-id-1 div.sk-item::before, #sk-container-id-1 div.sk-parallel-item::before {content: \"\";position: absolute;border-left: 1px solid gray;box-sizing: border-box;top: 0;bottom: 0;left: 50%;z-index: -1;}#sk-container-id-1 div.sk-parallel-item {display: flex;flex-direction: column;z-index: 1;position: relative;background-color: white;}#sk-container-id-1 div.sk-parallel-item:first-child::after {align-self: flex-end;width: 50%;}#sk-container-id-1 div.sk-parallel-item:last-child::after {align-self: flex-start;width: 50%;}#sk-container-id-1 div.sk-parallel-item:only-child::after {width: 0;}#sk-container-id-1 div.sk-dashed-wrapped {border: 1px dashed gray;margin: 0 0.4em 0.5em 0.4em;box-sizing: border-box;padding-bottom: 0.4em;background-color: white;}#sk-container-id-1 div.sk-label label {font-family: monospace;font-weight: bold;display: inline-block;line-height: 1.2em;}#sk-container-id-1 div.sk-label-container {text-align: center;}#sk-container-id-1 div.sk-container {/* jupyter's `normalize.less` sets `[hidden] { display: none; }` but bootstrap.min.css set `[hidden] { display: none !important; }` so we also need the `!important` here to be able to override the default hidden behavior on the sphinx rendered scikit-learn.org. See: https://github.com/scikit-learn/scikit-learn/issues/21755 */display: inline-block !important;position: relative;}#sk-container-id-1 div.sk-text-repr-fallback {display: none;}</style><div id=\"sk-container-id-1\" class=\"sk-top-container\"><div class=\"sk-text-repr-fallback\"><pre>KNeighborsRegressor()</pre><b>In a Jupyter environment, please rerun this cell to show the HTML representation or trust the notebook. <br />On GitHub, the HTML representation is unable to render, please try loading this page with nbviewer.org.</b></div><div class=\"sk-container\" hidden><div class=\"sk-item\"><div class=\"sk-estimator sk-toggleable\"><input class=\"sk-toggleable__control sk-hidden--visually\" id=\"sk-estimator-id-1\" type=\"checkbox\" checked><label for=\"sk-estimator-id-1\" class=\"sk-toggleable__label sk-toggleable__label-arrow\">KNeighborsRegressor</label><div class=\"sk-toggleable__content\"><pre>KNeighborsRegressor()</pre></div></div></div></div></div>"
      ],
      "text/plain": [
       "KNeighborsRegressor()"
      ]
     },
     "execution_count": 66,
     "metadata": {},
     "output_type": "execute_result"
    }
   ],
   "source": [
    "knn = KNeighborsRegressor().fit(X_train, y_train)\n",
    "knn"
   ]
  },
  {
   "cell_type": "code",
   "execution_count": 67,
   "id": "92dfad88-a93c-44e0-bb04-17f0da6ce833",
   "metadata": {},
   "outputs": [],
   "source": [
    "knn_train_pred = knn.predict(X_train)"
   ]
  },
  {
   "cell_type": "code",
   "execution_count": 68,
   "id": "507410c2-8e44-4c42-b006-062cadef4af6",
   "metadata": {},
   "outputs": [],
   "source": [
    "knn_test_pred = knn.predict(X_test)"
   ]
  },
  {
   "cell_type": "code",
   "execution_count": 69,
   "id": "2e4ceb46-bb5d-42f5-bd7b-1dafe8c6262b",
   "metadata": {},
   "outputs": [
    {
     "name": "stdout",
     "output_type": "stream",
     "text": [
      "[ 7.28 12.84 18.92  9.34 16.66 12.12 12.12 11.24 17.02  7.06 19.68  5.12\n",
      " 12.08 12.08 17.34 18.2  12.48 14.54 12.48  8.4   8.4  16.58 18.92 19.1\n",
      " 10.92 11.56 14.34 12.08  8.4  14.66  8.4  16.2  15.86 18.92 12.12 14.02\n",
      " 12.08 16.26 14.66 14.66 13.1  11.12 16.66 17.54  5.92 14.66 14.46 10.12\n",
      "  5.92 15.1  21.06 19.06 21.78  6.12 19.24  9.72 19.84 15.1   7.28  6.32\n",
      " 15.7   6.32 20.9  12.08  8.06 17.42 14.02 15.1  10.2  10.12 15.48 10.12\n",
      " 16.18 15.7  18.32  8.4  22.12 19.84 11.56 23.78 12.78 10.98 19.84 18.2\n",
      " 11.56 16.44 16.18 15.1  19.84 19.8   9.72 18.34 11.12 15.3  19.68 15.1\n",
      "  4.48 19.62  7.28 17.54  4.48 20.9  11.44 21.78 17.54 12.16 10.12 11.24\n",
      " 12.02 11.12 16.26 12.16 15.7  19.1  17.54  9.34 17.34 17.54 14.02 15.1\n",
      "  9.38 17.54 22.12 12.12 19.84 19.06 18.32 21.78 15.28 18.2  14.82 15.1\n",
      " 17.02 17.54] [14.02 20.76 21.78  9.48 13.08 10.2   9.48 19.24 17.46  8.02 19.1  20.76\n",
      " 12.12  7.28 10.34  9.48 20.94 20.94 12.08  7.06 13.34  8.02 13.72 16.44\n",
      " 20.76 18.92 17.48 10.98  5.92 19.84 11.56 10.26 16.72 18.92 12.08 17.48\n",
      " 19.28  8.02 17.14 15.1  12.16 14.64 11.26 14.02 16.26 15.86 12.48 19.6\n",
      " 14.18 12.08 16.2  11.56 17.54  7.28 21.06  7.28 15.68 12.08 15.1  21.06\n",
      " 10.12 19.6  17.34 18.92 16.18  7.28]\n"
     ]
    }
   ],
   "source": [
    "print(knn_train_pred, knn_test_pred)"
   ]
  },
  {
   "cell_type": "code",
   "execution_count": 70,
   "id": "8568cd97-3f5c-4279-9a98-857a46325afa",
   "metadata": {},
   "outputs": [],
   "source": [
    "Results = pd.DataFrame(columns=[\"Model\",\"Train R2\",\"Test R2\",\"Test RMSE\",\"Variance\"])\n",
    "     "
   ]
  },
  {
   "cell_type": "code",
   "execution_count": 71,
   "id": "bd5dcd00-c61f-4b7c-a13f-d0642c6401e2",
   "metadata": {},
   "outputs": [
    {
     "name": "stdout",
     "output_type": "stream",
     "text": [
      "R2: 0.5704237597744684\n",
      "RMSE: 3.1332856218159857\n"
     ]
    }
   ],
   "source": [
    "r2 = r2_score(y_test,knn_test_pred)\n",
    "r2_train = r2_score(y_train,knn_train_pred)\n",
    "rmse = np.sqrt(mean_squared_error(y_test,knn_test_pred))\n",
    "variance = r2_train - r2\n",
    "Results = Results.append({\"Model\":\"K-Nearest Neighbors\",\"Train R2\":r2_train,\"Test R2\":r2,\"Test RMSE\":rmse,\"Variance\":variance},ignore_index=True)\n",
    "print(\"R2:\",r2)\n",
    "print(\"RMSE:\",rmse)"
   ]
  },
  {
   "cell_type": "code",
   "execution_count": 72,
   "id": "4de47104-b190-46c0-bd4b-9911d3b7d5a4",
   "metadata": {},
   "outputs": [
    {
     "data": {
      "text/html": [
       "<div>\n",
       "<style scoped>\n",
       "    .dataframe tbody tr th:only-of-type {\n",
       "        vertical-align: middle;\n",
       "    }\n",
       "\n",
       "    .dataframe tbody tr th {\n",
       "        vertical-align: top;\n",
       "    }\n",
       "\n",
       "    .dataframe thead th {\n",
       "        text-align: right;\n",
       "    }\n",
       "</style>\n",
       "<table border=\"1\" class=\"dataframe\">\n",
       "  <thead>\n",
       "    <tr style=\"text-align: right;\">\n",
       "      <th></th>\n",
       "      <th>Model</th>\n",
       "      <th>Train R2</th>\n",
       "      <th>Test R2</th>\n",
       "      <th>Test RMSE</th>\n",
       "      <th>Variance</th>\n",
       "    </tr>\n",
       "  </thead>\n",
       "  <tbody>\n",
       "    <tr>\n",
       "      <th>0</th>\n",
       "      <td>K-Nearest Neighbors</td>\n",
       "      <td>0.668946</td>\n",
       "      <td>0.570424</td>\n",
       "      <td>3.133286</td>\n",
       "      <td>0.098523</td>\n",
       "    </tr>\n",
       "  </tbody>\n",
       "</table>\n",
       "</div>"
      ],
      "text/plain": [
       "                 Model  Train R2   Test R2  Test RMSE  Variance\n",
       "0  K-Nearest Neighbors  0.668946  0.570424   3.133286  0.098523"
      ]
     },
     "execution_count": 72,
     "metadata": {},
     "output_type": "execute_result"
    }
   ],
   "source": [
    "Results.head()\n",
    "     "
   ]
  },
  {
   "cell_type": "code",
   "execution_count": 73,
   "id": "bec844c0-07d9-42aa-8dac-be87aa56f5a7",
   "metadata": {},
   "outputs": [
    {
     "data": {
      "text/html": [
       "<style>#sk-container-id-2 {color: black;background-color: white;}#sk-container-id-2 pre{padding: 0;}#sk-container-id-2 div.sk-toggleable {background-color: white;}#sk-container-id-2 label.sk-toggleable__label {cursor: pointer;display: block;width: 100%;margin-bottom: 0;padding: 0.3em;box-sizing: border-box;text-align: center;}#sk-container-id-2 label.sk-toggleable__label-arrow:before {content: \"▸\";float: left;margin-right: 0.25em;color: #696969;}#sk-container-id-2 label.sk-toggleable__label-arrow:hover:before {color: black;}#sk-container-id-2 div.sk-estimator:hover label.sk-toggleable__label-arrow:before {color: black;}#sk-container-id-2 div.sk-toggleable__content {max-height: 0;max-width: 0;overflow: hidden;text-align: left;background-color: #f0f8ff;}#sk-container-id-2 div.sk-toggleable__content pre {margin: 0.2em;color: black;border-radius: 0.25em;background-color: #f0f8ff;}#sk-container-id-2 input.sk-toggleable__control:checked~div.sk-toggleable__content {max-height: 200px;max-width: 100%;overflow: auto;}#sk-container-id-2 input.sk-toggleable__control:checked~label.sk-toggleable__label-arrow:before {content: \"▾\";}#sk-container-id-2 div.sk-estimator input.sk-toggleable__control:checked~label.sk-toggleable__label {background-color: #d4ebff;}#sk-container-id-2 div.sk-label input.sk-toggleable__control:checked~label.sk-toggleable__label {background-color: #d4ebff;}#sk-container-id-2 input.sk-hidden--visually {border: 0;clip: rect(1px 1px 1px 1px);clip: rect(1px, 1px, 1px, 1px);height: 1px;margin: -1px;overflow: hidden;padding: 0;position: absolute;width: 1px;}#sk-container-id-2 div.sk-estimator {font-family: monospace;background-color: #f0f8ff;border: 1px dotted black;border-radius: 0.25em;box-sizing: border-box;margin-bottom: 0.5em;}#sk-container-id-2 div.sk-estimator:hover {background-color: #d4ebff;}#sk-container-id-2 div.sk-parallel-item::after {content: \"\";width: 100%;border-bottom: 1px solid gray;flex-grow: 1;}#sk-container-id-2 div.sk-label:hover label.sk-toggleable__label {background-color: #d4ebff;}#sk-container-id-2 div.sk-serial::before {content: \"\";position: absolute;border-left: 1px solid gray;box-sizing: border-box;top: 0;bottom: 0;left: 50%;z-index: 0;}#sk-container-id-2 div.sk-serial {display: flex;flex-direction: column;align-items: center;background-color: white;padding-right: 0.2em;padding-left: 0.2em;position: relative;}#sk-container-id-2 div.sk-item {position: relative;z-index: 1;}#sk-container-id-2 div.sk-parallel {display: flex;align-items: stretch;justify-content: center;background-color: white;position: relative;}#sk-container-id-2 div.sk-item::before, #sk-container-id-2 div.sk-parallel-item::before {content: \"\";position: absolute;border-left: 1px solid gray;box-sizing: border-box;top: 0;bottom: 0;left: 50%;z-index: -1;}#sk-container-id-2 div.sk-parallel-item {display: flex;flex-direction: column;z-index: 1;position: relative;background-color: white;}#sk-container-id-2 div.sk-parallel-item:first-child::after {align-self: flex-end;width: 50%;}#sk-container-id-2 div.sk-parallel-item:last-child::after {align-self: flex-start;width: 50%;}#sk-container-id-2 div.sk-parallel-item:only-child::after {width: 0;}#sk-container-id-2 div.sk-dashed-wrapped {border: 1px dashed gray;margin: 0 0.4em 0.5em 0.4em;box-sizing: border-box;padding-bottom: 0.4em;background-color: white;}#sk-container-id-2 div.sk-label label {font-family: monospace;font-weight: bold;display: inline-block;line-height: 1.2em;}#sk-container-id-2 div.sk-label-container {text-align: center;}#sk-container-id-2 div.sk-container {/* jupyter's `normalize.less` sets `[hidden] { display: none; }` but bootstrap.min.css set `[hidden] { display: none !important; }` so we also need the `!important` here to be able to override the default hidden behavior on the sphinx rendered scikit-learn.org. See: https://github.com/scikit-learn/scikit-learn/issues/21755 */display: inline-block !important;position: relative;}#sk-container-id-2 div.sk-text-repr-fallback {display: none;}</style><div id=\"sk-container-id-2\" class=\"sk-top-container\"><div class=\"sk-text-repr-fallback\"><pre>SVR()</pre><b>In a Jupyter environment, please rerun this cell to show the HTML representation or trust the notebook. <br />On GitHub, the HTML representation is unable to render, please try loading this page with nbviewer.org.</b></div><div class=\"sk-container\" hidden><div class=\"sk-item\"><div class=\"sk-estimator sk-toggleable\"><input class=\"sk-toggleable__control sk-hidden--visually\" id=\"sk-estimator-id-2\" type=\"checkbox\" checked><label for=\"sk-estimator-id-2\" class=\"sk-toggleable__label sk-toggleable__label-arrow\">SVR</label><div class=\"sk-toggleable__content\"><pre>SVR()</pre></div></div></div></div></div>"
      ],
      "text/plain": [
       "SVR()"
      ]
     },
     "execution_count": 73,
     "metadata": {},
     "output_type": "execute_result"
    }
   ],
   "source": [
    "svr = SVR().fit(X_train,y_train)\n",
    "svr\n",
    "     "
   ]
  },
  {
   "cell_type": "code",
   "execution_count": 74,
   "id": "353d48d4-8e80-4e20-bc85-938e9672ef7a",
   "metadata": {},
   "outputs": [],
   "source": [
    "svr_train_pred = svr.predict(X_train)\n",
    "svr_test_pred = svr.predict(X_test)"
   ]
  },
  {
   "cell_type": "code",
   "execution_count": 75,
   "id": "042b7eea-263c-489d-8704-d703636688ea",
   "metadata": {},
   "outputs": [
    {
     "name": "stdout",
     "output_type": "stream",
     "text": [
      "[ 7.63595084 11.92420154 18.25473     9.62450921 16.82915916 12.54201605\n",
      " 12.36562344 11.75911419 16.92017115  7.47987083 17.5240791   7.29516758\n",
      " 10.70258089 10.79511524 16.51037086 18.14506058 12.12572182 13.15141232\n",
      " 12.12572182  8.23936504  7.95364547 17.69526263 18.21602148 17.29947562\n",
      " 11.49581626 10.26712698 14.97161565 10.70749557  8.00914095 15.29148048\n",
      "  8.04216925 17.84560541 17.81657319 18.21100653 12.56181927 13.32956492\n",
      " 10.70749557 17.89860017 15.21822956 15.18446906 13.49984348 11.56992022\n",
      " 16.78309187 15.73758169  7.35458847 15.29148048 13.2710014   8.8708144\n",
      "  7.34151064 14.59697851 18.37166899 16.3214305  17.9621188   7.43686111\n",
      " 18.46300464  9.4696288  18.51198014 13.82686532  7.61074188  7.35907843\n",
      " 13.11214679  7.36134781 18.42672075 10.64321982  7.69987837 16.70032326\n",
      " 13.33409675 13.83180944 11.64305412  9.16941505 18.06115707  8.96219884\n",
      " 16.55830963 13.0003231  17.23952513  8.0950043  18.21479967 18.51395473\n",
      " 10.2989748  18.30626294 12.24545367 10.17604012 18.516676   18.14506058\n",
      " 10.41435495 17.11178532 16.52104839 13.70936968 18.51549326 18.42703387\n",
      "  9.26763581 18.19572837 11.50823868 14.81067222 17.54513819 13.91644432\n",
      "  7.27412448 17.39406188  7.61074188 15.60779855  7.23291172 18.42391678\n",
      " 11.34857038 18.1335737  17.55351162 11.31857421  8.95074475 11.84988263\n",
      " 11.14330696 11.590328   17.98589014 11.25799467 12.97484616 17.33131961\n",
      " 15.90621675  9.69858917 16.44063961 15.90061209 13.34317202 14.72258248\n",
      "  9.81738027 15.73758169 18.16073484 12.41238265 18.51688974 16.22838841\n",
      " 17.24417353 18.04979978 14.91039042 18.1668155  15.03862565 14.5427813\n",
      " 16.92518187 17.6316015 ] [13.37962846 17.46417443 18.0706907   8.52462691 12.03294532 11.630928\n",
      "  8.58485943 18.47899207 15.50609038  7.93095621 17.37626607 17.43371321\n",
      " 12.53015662  7.60014193  8.66792216  8.5958751  18.29137241 18.25322672\n",
      " 10.65316264  7.47689753 12.64554804  7.87320836 12.75062063 17.05855561\n",
      " 17.46849862 18.21602148 17.1165912  10.21905896  7.33106449 18.51620303\n",
      " 10.33066159  9.96819435 16.20088485 18.28871677 10.89060059 16.08475837\n",
      " 18.46373289  7.92644976 15.93421966 14.5319737  11.20982771 13.19538764\n",
      " 10.55791287 13.42555042 17.91926371 17.76450687 12.16047254 18.39541704\n",
      " 12.90329987 10.62327511 17.85635559 10.34118765 17.6316015   7.69216262\n",
      " 18.34990782  7.66932445 14.17675701 10.66308576 14.65689074 18.36277891\n",
      "  8.86512345 18.38886961 16.44063961 18.20848445 16.55830963  7.66556355]\n"
     ]
    }
   ],
   "source": [
    "print(svr_train_pred,svr_test_pred)"
   ]
  },
  {
   "cell_type": "code",
   "execution_count": 76,
   "id": "259e9d99-5ca0-486a-9de6-ddd772c9a2e3",
   "metadata": {},
   "outputs": [
    {
     "name": "stdout",
     "output_type": "stream",
     "text": [
      "R2: 0.6292904827894317\n",
      "RMSE: 2.9106951845042834\n"
     ]
    }
   ],
   "source": [
    "r2 = r2_score(y_test,svr_test_pred)\n",
    "r2_train = r2_score(y_train,svr_train_pred)\n",
    "rmse = np.sqrt(mean_squared_error(y_test,svr_test_pred))\n",
    "variance = r2_train - r2\n",
    "Results = Results.append({\"Model\":\"Support Vector Machine\",\"Train R2\":r2_train,\"Test R2\":r2,\"Test RMSE\":rmse,\"Variance\":variance},ignore_index=True)\n",
    "print(\"R2:\",r2)\n",
    "print(\"RMSE:\",rmse)"
   ]
  },
  {
   "cell_type": "code",
   "execution_count": 77,
   "id": "24e5dad9-b4d0-4372-8b69-c0b412abb210",
   "metadata": {},
   "outputs": [
    {
     "data": {
      "text/html": [
       "<div>\n",
       "<style scoped>\n",
       "    .dataframe tbody tr th:only-of-type {\n",
       "        vertical-align: middle;\n",
       "    }\n",
       "\n",
       "    .dataframe tbody tr th {\n",
       "        vertical-align: top;\n",
       "    }\n",
       "\n",
       "    .dataframe thead th {\n",
       "        text-align: right;\n",
       "    }\n",
       "</style>\n",
       "<table border=\"1\" class=\"dataframe\">\n",
       "  <thead>\n",
       "    <tr style=\"text-align: right;\">\n",
       "      <th></th>\n",
       "      <th>Model</th>\n",
       "      <th>Train R2</th>\n",
       "      <th>Test R2</th>\n",
       "      <th>Test RMSE</th>\n",
       "      <th>Variance</th>\n",
       "    </tr>\n",
       "  </thead>\n",
       "  <tbody>\n",
       "    <tr>\n",
       "      <th>0</th>\n",
       "      <td>K-Nearest Neighbors</td>\n",
       "      <td>0.668946</td>\n",
       "      <td>0.570424</td>\n",
       "      <td>3.133286</td>\n",
       "      <td>0.098523</td>\n",
       "    </tr>\n",
       "    <tr>\n",
       "      <th>1</th>\n",
       "      <td>Support Vector Machine</td>\n",
       "      <td>0.585053</td>\n",
       "      <td>0.629290</td>\n",
       "      <td>2.910695</td>\n",
       "      <td>-0.044238</td>\n",
       "    </tr>\n",
       "  </tbody>\n",
       "</table>\n",
       "</div>"
      ],
      "text/plain": [
       "                    Model  Train R2   Test R2  Test RMSE  Variance\n",
       "0     K-Nearest Neighbors  0.668946  0.570424   3.133286  0.098523\n",
       "1  Support Vector Machine  0.585053  0.629290   2.910695 -0.044238"
      ]
     },
     "execution_count": 77,
     "metadata": {},
     "output_type": "execute_result"
    }
   ],
   "source": [
    "Results.head()"
   ]
  },
  {
   "cell_type": "code",
   "execution_count": 80,
   "id": "b83241c6-8a09-4073-9cba-76e54fbcb4ba",
   "metadata": {},
   "outputs": [
    {
     "name": "stdout",
     "output_type": "stream",
     "text": [
      "Collecting statsmodels\n",
      "  Downloading statsmodels-0.13.5-cp311-cp311-win_amd64.whl (9.0 MB)\n",
      "     ---------------------------------------- 0.0/9.0 MB ? eta -:--:--\n",
      "     ---------------------------------------- 0.0/9.0 MB 1.3 MB/s eta 0:00:08\n",
      "     ---------------------------------------- 0.1/9.0 MB 435.7 kB/s eta 0:00:21\n",
      "     ---------------------------------------- 0.1/9.0 MB 363.1 kB/s eta 0:00:25\n",
      "     ---------------------------------------- 0.1/9.0 MB 245.8 kB/s eta 0:00:37\n",
      "     ---------------------------------------- 0.1/9.0 MB 261.7 kB/s eta 0:00:35\n",
      "     ---------------------------------------- 0.1/9.0 MB 261.7 kB/s eta 0:00:35\n",
      "      --------------------------------------- 0.1/9.0 MB 242.7 kB/s eta 0:00:37\n",
      "      --------------------------------------- 0.1/9.0 MB 232.7 kB/s eta 0:00:39\n",
      "      --------------------------------------- 0.1/9.0 MB 243.4 kB/s eta 0:00:37\n",
      "      --------------------------------------- 0.2/9.0 MB 235.4 kB/s eta 0:00:38\n",
      "      --------------------------------------- 0.2/9.0 MB 238.1 kB/s eta 0:00:38\n",
      "      --------------------------------------- 0.2/9.0 MB 240.6 kB/s eta 0:00:37\n",
      "      --------------------------------------- 0.2/9.0 MB 235.0 kB/s eta 0:00:38\n",
      "     - -------------------------------------- 0.2/9.0 MB 237.3 kB/s eta 0:00:37\n",
      "     - -------------------------------------- 0.2/9.0 MB 232.5 kB/s eta 0:00:38\n",
      "     - -------------------------------------- 0.3/9.0 MB 234.7 kB/s eta 0:00:38\n",
      "     - -------------------------------------- 0.3/9.0 MB 236.7 kB/s eta 0:00:37\n",
      "     - -------------------------------------- 0.3/9.0 MB 235.9 kB/s eta 0:00:37\n",
      "     - -------------------------------------- 0.3/9.0 MB 240.6 kB/s eta 0:00:37\n",
      "     - -------------------------------------- 0.3/9.0 MB 236.9 kB/s eta 0:00:37\n",
      "     - -------------------------------------- 0.3/9.0 MB 241.1 kB/s eta 0:00:36\n",
      "     - -------------------------------------- 0.4/9.0 MB 247.6 kB/s eta 0:00:35\n",
      "     - -------------------------------------- 0.4/9.0 MB 246.7 kB/s eta 0:00:35\n",
      "     - -------------------------------------- 0.4/9.0 MB 247.5 kB/s eta 0:00:35\n",
      "     - -------------------------------------- 0.4/9.0 MB 241.8 kB/s eta 0:00:36\n",
      "     - -------------------------------------- 0.4/9.0 MB 245.0 kB/s eta 0:00:35\n",
      "     - -------------------------------------- 0.4/9.0 MB 248.0 kB/s eta 0:00:35\n",
      "     - -------------------------------------- 0.4/9.0 MB 248.0 kB/s eta 0:00:35\n",
      "     -- ------------------------------------- 0.5/9.0 MB 240.9 kB/s eta 0:00:36\n",
      "     -- ------------------------------------- 0.5/9.0 MB 241.8 kB/s eta 0:00:36\n",
      "     -- ------------------------------------- 0.5/9.0 MB 241.2 kB/s eta 0:00:36\n",
      "     -- ------------------------------------- 0.5/9.0 MB 243.8 kB/s eta 0:00:35\n",
      "     -- ------------------------------------- 0.5/9.0 MB 246.4 kB/s eta 0:00:35\n",
      "     -- ------------------------------------- 0.5/9.0 MB 243.9 kB/s eta 0:00:35\n",
      "     -- ------------------------------------- 0.6/9.0 MB 246.4 kB/s eta 0:00:35\n",
      "     -- ------------------------------------- 0.6/9.0 MB 249.6 kB/s eta 0:00:34\n",
      "     -- ------------------------------------- 0.6/9.0 MB 253.4 kB/s eta 0:00:34\n",
      "     -- ------------------------------------- 0.6/9.0 MB 251.1 kB/s eta 0:00:34\n",
      "     -- ------------------------------------- 0.6/9.0 MB 254.6 kB/s eta 0:00:33\n",
      "     -- ------------------------------------- 0.6/9.0 MB 252.3 kB/s eta 0:00:34\n",
      "     -- ------------------------------------- 0.7/9.0 MB 255.7 kB/s eta 0:00:33\n",
      "     -- ------------------------------------- 0.7/9.0 MB 255.7 kB/s eta 0:00:33\n",
      "     --- ------------------------------------ 0.7/9.0 MB 257.5 kB/s eta 0:00:33\n",
      "     --- ------------------------------------ 0.7/9.0 MB 255.2 kB/s eta 0:00:33\n",
      "     --- ------------------------------------ 0.7/9.0 MB 255.4 kB/s eta 0:00:33\n",
      "     --- ------------------------------------ 0.7/9.0 MB 254.8 kB/s eta 0:00:33\n",
      "     --- ------------------------------------ 0.7/9.0 MB 255.0 kB/s eta 0:00:33\n",
      "     --- ------------------------------------ 0.8/9.0 MB 256.6 kB/s eta 0:00:33\n",
      "     --- ------------------------------------ 0.8/9.0 MB 254.6 kB/s eta 0:00:33\n",
      "     --- ------------------------------------ 0.8/9.0 MB 256.2 kB/s eta 0:00:32\n",
      "     --- ------------------------------------ 0.8/9.0 MB 253.1 kB/s eta 0:00:33\n",
      "     --- ------------------------------------ 0.8/9.0 MB 253.3 kB/s eta 0:00:33\n",
      "     --- ------------------------------------ 0.8/9.0 MB 253.4 kB/s eta 0:00:33\n",
      "     --- ------------------------------------ 0.9/9.0 MB 251.8 kB/s eta 0:00:33\n",
      "     --- ------------------------------------ 0.9/9.0 MB 251.8 kB/s eta 0:00:33\n",
      "     --- ------------------------------------ 0.9/9.0 MB 249.8 kB/s eta 0:00:33\n",
      "     --- ------------------------------------ 0.9/9.0 MB 248.3 kB/s eta 0:00:33\n",
      "     ---- ----------------------------------- 0.9/9.0 MB 250.7 kB/s eta 0:00:33\n",
      "     ---- ----------------------------------- 0.9/9.0 MB 251.6 kB/s eta 0:00:32\n",
      "     ---- ----------------------------------- 1.0/9.0 MB 254.0 kB/s eta 0:00:32\n",
      "     ---- ----------------------------------- 1.0/9.0 MB 252.4 kB/s eta 0:00:32\n",
      "     ---- ----------------------------------- 1.0/9.0 MB 253.7 kB/s eta 0:00:32\n",
      "     ---- ----------------------------------- 1.0/9.0 MB 256.5 kB/s eta 0:00:32\n",
      "     ---- ----------------------------------- 1.0/9.0 MB 256.5 kB/s eta 0:00:32\n",
      "     ---- ----------------------------------- 1.1/9.0 MB 255.1 kB/s eta 0:00:32\n",
      "     ---- ----------------------------------- 1.1/9.0 MB 256.2 kB/s eta 0:00:31\n",
      "     ---- ----------------------------------- 1.1/9.0 MB 258.3 kB/s eta 0:00:31\n",
      "     ---- ----------------------------------- 1.1/9.0 MB 257.8 kB/s eta 0:00:31\n",
      "     ----- ---------------------------------- 1.1/9.0 MB 257.9 kB/s eta 0:00:31\n",
      "     ----- ---------------------------------- 1.2/9.0 MB 260.3 kB/s eta 0:00:31\n",
      "     ----- ---------------------------------- 1.2/9.0 MB 259.9 kB/s eta 0:00:31\n",
      "     ----- ---------------------------------- 1.2/9.0 MB 259.9 kB/s eta 0:00:31\n",
      "     ----- ---------------------------------- 1.2/9.0 MB 259.0 kB/s eta 0:00:31\n",
      "     ----- ---------------------------------- 1.2/9.0 MB 258.6 kB/s eta 0:00:31\n",
      "     ----- ---------------------------------- 1.2/9.0 MB 260.4 kB/s eta 0:00:30\n",
      "     ----- ---------------------------------- 1.2/9.0 MB 261.3 kB/s eta 0:00:30\n",
      "     ----- ---------------------------------- 1.2/9.0 MB 260.9 kB/s eta 0:00:30\n",
      "     ----- ---------------------------------- 1.3/9.0 MB 263.4 kB/s eta 0:00:30\n",
      "     ----- ---------------------------------- 1.3/9.0 MB 261.3 kB/s eta 0:00:30\n",
      "     ----- ---------------------------------- 1.3/9.0 MB 261.3 kB/s eta 0:00:30\n",
      "     ----- ---------------------------------- 1.3/9.0 MB 262.1 kB/s eta 0:00:30\n",
      "     ----- ---------------------------------- 1.3/9.0 MB 262.1 kB/s eta 0:00:30\n",
      "     ------ --------------------------------- 1.4/9.0 MB 261.7 kB/s eta 0:00:30\n",
      "     ------ --------------------------------- 1.4/9.0 MB 264.5 kB/s eta 0:00:29\n",
      "     ------ --------------------------------- 1.4/9.0 MB 268.0 kB/s eta 0:00:29\n",
      "     ------ --------------------------------- 1.4/9.0 MB 270.6 kB/s eta 0:00:28\n",
      "     ------ --------------------------------- 1.5/9.0 MB 275.4 kB/s eta 0:00:28\n",
      "     ------ --------------------------------- 1.5/9.0 MB 279.5 kB/s eta 0:00:27\n",
      "     ------ --------------------------------- 1.5/9.0 MB 279.5 kB/s eta 0:00:27\n",
      "     ------ --------------------------------- 1.5/9.0 MB 279.5 kB/s eta 0:00:27\n",
      "     ------ --------------------------------- 1.5/9.0 MB 279.5 kB/s eta 0:00:27\n",
      "     ------ --------------------------------- 1.5/9.0 MB 279.5 kB/s eta 0:00:27\n",
      "     ------ --------------------------------- 1.5/9.0 MB 279.5 kB/s eta 0:00:27\n",
      "     ------ --------------------------------- 1.5/9.0 MB 279.5 kB/s eta 0:00:27\n",
      "     ------ --------------------------------- 1.6/9.0 MB 264.2 kB/s eta 0:00:29\n",
      "     ------- -------------------------------- 1.6/9.0 MB 264.6 kB/s eta 0:00:29\n",
      "     ------- -------------------------------- 1.6/9.0 MB 265.2 kB/s eta 0:00:28\n",
      "     ------- -------------------------------- 1.6/9.0 MB 264.2 kB/s eta 0:00:28\n",
      "     ------- -------------------------------- 1.6/9.0 MB 264.8 kB/s eta 0:00:28\n",
      "     ------- -------------------------------- 1.7/9.0 MB 265.1 kB/s eta 0:00:28\n",
      "     ------- -------------------------------- 1.7/9.0 MB 266.0 kB/s eta 0:00:28\n",
      "     ------- -------------------------------- 1.7/9.0 MB 267.3 kB/s eta 0:00:28\n",
      "     ------- -------------------------------- 1.7/9.0 MB 268.8 kB/s eta 0:00:27\n",
      "     ------- -------------------------------- 1.8/9.0 MB 270.1 kB/s eta 0:00:27\n",
      "     ------- -------------------------------- 1.8/9.0 MB 271.5 kB/s eta 0:00:27\n",
      "     -------- ------------------------------- 1.8/9.0 MB 271.4 kB/s eta 0:00:27\n",
      "     -------- ------------------------------- 1.8/9.0 MB 272.2 kB/s eta 0:00:27\n",
      "     -------- ------------------------------- 1.9/9.0 MB 270.5 kB/s eta 0:00:27\n",
      "     -------- ------------------------------- 1.9/9.0 MB 272.3 kB/s eta 0:00:27\n",
      "     -------- ------------------------------- 1.9/9.0 MB 272.2 kB/s eta 0:00:27\n",
      "     -------- ------------------------------- 1.9/9.0 MB 272.5 kB/s eta 0:00:27\n",
      "     -------- ------------------------------- 1.9/9.0 MB 273.2 kB/s eta 0:00:26\n",
      "     -------- ------------------------------- 2.0/9.0 MB 274.3 kB/s eta 0:00:26\n",
      "     -------- ------------------------------- 2.0/9.0 MB 275.3 kB/s eta 0:00:26\n",
      "     -------- ------------------------------- 2.0/9.0 MB 275.2 kB/s eta 0:00:26\n",
      "     -------- ------------------------------- 2.0/9.0 MB 275.4 kB/s eta 0:00:26\n",
      "     --------- ------------------------------ 2.0/9.0 MB 276.1 kB/s eta 0:00:26\n",
      "     --------- ------------------------------ 2.1/9.0 MB 278.7 kB/s eta 0:00:25\n",
      "     --------- ------------------------------ 2.1/9.0 MB 277.8 kB/s eta 0:00:25\n",
      "     --------- ------------------------------ 2.1/9.0 MB 278.7 kB/s eta 0:00:25\n",
      "     --------- ------------------------------ 2.1/9.0 MB 278.7 kB/s eta 0:00:25\n",
      "     --------- ------------------------------ 2.1/9.0 MB 277.2 kB/s eta 0:00:25\n",
      "     --------- ------------------------------ 2.1/9.0 MB 277.0 kB/s eta 0:00:25\n",
      "     --------- ------------------------------ 2.2/9.0 MB 277.5 kB/s eta 0:00:25\n",
      "     --------- ------------------------------ 2.2/9.0 MB 278.1 kB/s eta 0:00:25\n",
      "     --------- ------------------------------ 2.2/9.0 MB 279.8 kB/s eta 0:00:25\n",
      "     --------- ------------------------------ 2.2/9.0 MB 280.7 kB/s eta 0:00:25\n",
      "     ---------- ----------------------------- 2.3/9.0 MB 282.3 kB/s eta 0:00:24\n",
      "     ---------- ----------------------------- 2.3/9.0 MB 284.0 kB/s eta 0:00:24\n",
      "     ---------- ----------------------------- 2.3/9.0 MB 285.0 kB/s eta 0:00:24\n",
      "     ---------- ----------------------------- 2.4/9.0 MB 285.9 kB/s eta 0:00:24\n",
      "     ---------- ----------------------------- 2.4/9.0 MB 286.3 kB/s eta 0:00:24\n",
      "     ---------- ----------------------------- 2.4/9.0 MB 286.1 kB/s eta 0:00:24\n",
      "     ---------- ----------------------------- 2.4/9.0 MB 286.3 kB/s eta 0:00:23\n",
      "     ---------- ----------------------------- 2.4/9.0 MB 287.3 kB/s eta 0:00:23\n",
      "     ----------- ---------------------------- 2.5/9.0 MB 289.4 kB/s eta 0:00:23\n",
      "     ----------- ---------------------------- 2.5/9.0 MB 289.7 kB/s eta 0:00:23\n",
      "     ----------- ---------------------------- 2.5/9.0 MB 291.1 kB/s eta 0:00:23\n",
      "     ----------- ---------------------------- 2.6/9.0 MB 291.9 kB/s eta 0:00:23\n",
      "     ----------- ---------------------------- 2.6/9.0 MB 292.3 kB/s eta 0:00:22\n",
      "     ----------- ---------------------------- 2.6/9.0 MB 293.1 kB/s eta 0:00:22\n",
      "     ----------- ---------------------------- 2.6/9.0 MB 293.1 kB/s eta 0:00:22\n",
      "     ----------- ---------------------------- 2.6/9.0 MB 291.7 kB/s eta 0:00:22\n",
      "     ----------- ---------------------------- 2.6/9.0 MB 292.4 kB/s eta 0:00:22\n",
      "     ----------- ---------------------------- 2.7/9.0 MB 293.2 kB/s eta 0:00:22\n",
      "     ----------- ---------------------------- 2.7/9.0 MB 291.8 kB/s eta 0:00:22\n",
      "     ----------- ---------------------------- 2.7/9.0 MB 292.5 kB/s eta 0:00:22\n",
      "     ------------ --------------------------- 2.7/9.0 MB 292.1 kB/s eta 0:00:22\n",
      "     ------------ --------------------------- 2.7/9.0 MB 291.9 kB/s eta 0:00:22\n",
      "     ------------ --------------------------- 2.8/9.0 MB 291.3 kB/s eta 0:00:22\n",
      "     ------------ --------------------------- 2.8/9.0 MB 291.3 kB/s eta 0:00:22\n",
      "     ------------ --------------------------- 2.8/9.0 MB 290.7 kB/s eta 0:00:22\n",
      "     ------------ --------------------------- 2.8/9.0 MB 290.3 kB/s eta 0:00:22\n",
      "     ------------ --------------------------- 2.8/9.0 MB 290.6 kB/s eta 0:00:22\n",
      "     ------------ --------------------------- 2.8/9.0 MB 290.3 kB/s eta 0:00:22\n",
      "     ------------ --------------------------- 2.9/9.0 MB 290.2 kB/s eta 0:00:22\n",
      "     ------------ --------------------------- 2.9/9.0 MB 289.9 kB/s eta 0:00:22\n",
      "     ------------ --------------------------- 2.9/9.0 MB 290.1 kB/s eta 0:00:22\n",
      "     ------------ --------------------------- 2.9/9.0 MB 290.8 kB/s eta 0:00:21\n",
      "     ------------ --------------------------- 2.9/9.0 MB 290.8 kB/s eta 0:00:21\n",
      "     ------------- -------------------------- 2.9/9.0 MB 290.0 kB/s eta 0:00:21\n",
      "     ------------- -------------------------- 2.9/9.0 MB 290.7 kB/s eta 0:00:21\n",
      "     ------------- -------------------------- 3.0/9.0 MB 290.6 kB/s eta 0:00:21\n",
      "     ------------- -------------------------- 3.0/9.0 MB 290.8 kB/s eta 0:00:21\n",
      "     ------------- -------------------------- 3.0/9.0 MB 290.1 kB/s eta 0:00:21\n",
      "     ------------- -------------------------- 3.0/9.0 MB 291.2 kB/s eta 0:00:21\n",
      "     ------------- -------------------------- 3.1/9.0 MB 291.5 kB/s eta 0:00:21\n",
      "     ------------- -------------------------- 3.1/9.0 MB 291.8 kB/s eta 0:00:21\n",
      "     ------------- -------------------------- 3.1/9.0 MB 292.5 kB/s eta 0:00:21\n",
      "     ------------- -------------------------- 3.1/9.0 MB 292.1 kB/s eta 0:00:21\n",
      "     ------------- -------------------------- 3.1/9.0 MB 291.9 kB/s eta 0:00:21\n",
      "     -------------- ------------------------- 3.2/9.0 MB 292.5 kB/s eta 0:00:20\n",
      "     -------------- ------------------------- 3.2/9.0 MB 292.2 kB/s eta 0:00:20\n",
      "     -------------- ------------------------- 3.2/9.0 MB 292.4 kB/s eta 0:00:20\n",
      "     -------------- ------------------------- 3.2/9.0 MB 291.3 kB/s eta 0:00:20\n",
      "     -------------- ------------------------- 3.2/9.0 MB 292.5 kB/s eta 0:00:20\n",
      "     -------------- ------------------------- 3.3/9.0 MB 291.8 kB/s eta 0:00:20\n",
      "     -------------- ------------------------- 3.3/9.0 MB 291.6 kB/s eta 0:00:20\n",
      "     -------------- ------------------------- 3.3/9.0 MB 290.5 kB/s eta 0:00:20\n",
      "     -------------- ------------------------- 3.3/9.0 MB 291.1 kB/s eta 0:00:20\n",
      "     -------------- ------------------------- 3.3/9.0 MB 291.4 kB/s eta 0:00:20\n",
      "     -------------- ------------------------- 3.4/9.0 MB 292.0 kB/s eta 0:00:20\n",
      "     -------------- ------------------------- 3.4/9.0 MB 290.9 kB/s eta 0:00:20\n",
      "     --------------- ------------------------ 3.4/9.0 MB 291.1 kB/s eta 0:00:20\n",
      "     --------------- ------------------------ 3.4/9.0 MB 291.7 kB/s eta 0:00:20\n",
      "     --------------- ------------------------ 3.4/9.0 MB 291.0 kB/s eta 0:00:20\n",
      "     --------------- ------------------------ 3.4/9.0 MB 291.6 kB/s eta 0:00:20\n",
      "     --------------- ------------------------ 3.5/9.0 MB 290.5 kB/s eta 0:00:20\n",
      "     --------------- ------------------------ 3.5/9.0 MB 291.1 kB/s eta 0:00:19\n",
      "     --------------- ------------------------ 3.5/9.0 MB 291.3 kB/s eta 0:00:19\n",
      "     --------------- ------------------------ 3.5/9.0 MB 290.6 kB/s eta 0:00:19\n",
      "     --------------- ------------------------ 3.5/9.0 MB 290.4 kB/s eta 0:00:19\n",
      "     --------------- ------------------------ 3.5/9.0 MB 290.1 kB/s eta 0:00:19\n",
      "     --------------- ------------------------ 3.6/9.0 MB 290.0 kB/s eta 0:00:19\n",
      "     --------------- ------------------------ 3.6/9.0 MB 290.5 kB/s eta 0:00:19\n",
      "     --------------- ------------------------ 3.6/9.0 MB 289.9 kB/s eta 0:00:19\n",
      "     ---------------- ----------------------- 3.6/9.0 MB 290.1 kB/s eta 0:00:19\n",
      "     ---------------- ----------------------- 3.6/9.0 MB 289.4 kB/s eta 0:00:19\n",
      "     ---------------- ----------------------- 3.6/9.0 MB 289.3 kB/s eta 0:00:19\n",
      "     ---------------- ----------------------- 3.7/9.0 MB 288.8 kB/s eta 0:00:19\n",
      "     ---------------- ----------------------- 3.7/9.0 MB 288.8 kB/s eta 0:00:19\n",
      "     ---------------- ----------------------- 3.7/9.0 MB 288.1 kB/s eta 0:00:19\n",
      "     ---------------- ----------------------- 3.7/9.0 MB 288.3 kB/s eta 0:00:19\n",
      "     ---------------- ----------------------- 3.7/9.0 MB 288.7 kB/s eta 0:00:19\n",
      "     ---------------- ----------------------- 3.7/9.0 MB 287.8 kB/s eta 0:00:19\n",
      "     ---------------- ----------------------- 3.8/9.0 MB 287.9 kB/s eta 0:00:19\n",
      "     ---------------- ----------------------- 3.8/9.0 MB 288.1 kB/s eta 0:00:19\n",
      "     ---------------- ----------------------- 3.8/9.0 MB 287.5 kB/s eta 0:00:19\n",
      "     ---------------- ----------------------- 3.8/9.0 MB 287.7 kB/s eta 0:00:19\n",
      "     ---------------- ----------------------- 3.8/9.0 MB 286.8 kB/s eta 0:00:19\n",
      "     ---------------- ----------------------- 3.8/9.0 MB 286.8 kB/s eta 0:00:19\n",
      "     ----------------- ---------------------- 3.8/9.0 MB 286.0 kB/s eta 0:00:19\n",
      "     ----------------- ---------------------- 3.9/9.0 MB 286.2 kB/s eta 0:00:18\n",
      "     ----------------- ---------------------- 3.9/9.0 MB 286.0 kB/s eta 0:00:18\n",
      "     ----------------- ---------------------- 3.9/9.0 MB 286.1 kB/s eta 0:00:18\n",
      "     ----------------- ---------------------- 3.9/9.0 MB 286.1 kB/s eta 0:00:18\n",
      "     ----------------- ---------------------- 3.9/9.0 MB 286.0 kB/s eta 0:00:18\n",
      "     ----------------- ---------------------- 4.0/9.0 MB 285.7 kB/s eta 0:00:18\n",
      "     ----------------- ---------------------- 4.0/9.0 MB 285.6 kB/s eta 0:00:18\n",
      "     ----------------- ---------------------- 4.0/9.0 MB 285.6 kB/s eta 0:00:18\n",
      "     ----------------- ---------------------- 4.0/9.0 MB 284.8 kB/s eta 0:00:18\n",
      "     ----------------- ---------------------- 4.0/9.0 MB 284.6 kB/s eta 0:00:18\n",
      "     ----------------- ---------------------- 4.0/9.0 MB 284.9 kB/s eta 0:00:18\n",
      "     ------------------ --------------------- 4.1/9.0 MB 285.2 kB/s eta 0:00:18\n",
      "     ------------------ --------------------- 4.1/9.0 MB 285.2 kB/s eta 0:00:18\n",
      "     ------------------ --------------------- 4.1/9.0 MB 285.6 kB/s eta 0:00:18\n",
      "     ------------------ --------------------- 4.1/9.0 MB 285.3 kB/s eta 0:00:18\n",
      "     ------------------ --------------------- 4.1/9.0 MB 285.5 kB/s eta 0:00:18\n",
      "     ------------------ --------------------- 4.1/9.0 MB 285.5 kB/s eta 0:00:18\n",
      "     ------------------ --------------------- 4.2/9.0 MB 285.2 kB/s eta 0:00:17\n",
      "     ------------------ --------------------- 4.2/9.0 MB 285.2 kB/s eta 0:00:17\n",
      "     ------------------ --------------------- 4.2/9.0 MB 285.1 kB/s eta 0:00:17\n",
      "     ------------------ --------------------- 4.2/9.0 MB 285.3 kB/s eta 0:00:17\n",
      "     ------------------ --------------------- 4.2/9.0 MB 285.3 kB/s eta 0:00:17\n",
      "     ------------------ --------------------- 4.3/9.0 MB 285.5 kB/s eta 0:00:17\n",
      "     ------------------- -------------------- 4.3/9.0 MB 285.0 kB/s eta 0:00:17\n",
      "     ------------------- -------------------- 4.3/9.0 MB 285.7 kB/s eta 0:00:17\n",
      "     ------------------- -------------------- 4.3/9.0 MB 285.7 kB/s eta 0:00:17\n",
      "     ------------------- -------------------- 4.3/9.0 MB 284.7 kB/s eta 0:00:17\n",
      "     ------------------- -------------------- 4.3/9.0 MB 284.6 kB/s eta 0:00:17\n",
      "     ------------------- -------------------- 4.4/9.0 MB 284.9 kB/s eta 0:00:17\n",
      "     ------------------- -------------------- 4.4/9.0 MB 284.9 kB/s eta 0:00:17\n",
      "     ------------------- -------------------- 4.4/9.0 MB 284.9 kB/s eta 0:00:17\n",
      "     ------------------- -------------------- 4.4/9.0 MB 284.1 kB/s eta 0:00:17\n",
      "     ------------------- -------------------- 4.4/9.0 MB 284.5 kB/s eta 0:00:17\n",
      "     ------------------- -------------------- 4.4/9.0 MB 284.5 kB/s eta 0:00:17\n",
      "     ------------------- -------------------- 4.5/9.0 MB 284.4 kB/s eta 0:00:16\n",
      "     ------------------- -------------------- 4.5/9.0 MB 284.7 kB/s eta 0:00:16\n",
      "     -------------------- ------------------- 4.5/9.0 MB 284.9 kB/s eta 0:00:16\n",
      "     -------------------- ------------------- 4.5/9.0 MB 284.9 kB/s eta 0:00:16\n",
      "     -------------------- ------------------- 4.5/9.0 MB 284.6 kB/s eta 0:00:16\n",
      "     -------------------- ------------------- 4.6/9.0 MB 284.7 kB/s eta 0:00:16\n",
      "     -------------------- ------------------- 4.6/9.0 MB 284.4 kB/s eta 0:00:16\n",
      "     -------------------- ------------------- 4.6/9.0 MB 284.4 kB/s eta 0:00:16\n",
      "     -------------------- ------------------- 4.6/9.0 MB 283.4 kB/s eta 0:00:16\n",
      "     -------------------- ------------------- 4.6/9.0 MB 283.3 kB/s eta 0:00:16\n",
      "     -------------------- ------------------- 4.6/9.0 MB 283.5 kB/s eta 0:00:16\n",
      "     -------------------- ------------------- 4.6/9.0 MB 283.0 kB/s eta 0:00:16\n",
      "     -------------------- ------------------- 4.7/9.0 MB 282.9 kB/s eta 0:00:16\n",
      "     -------------------- ------------------- 4.7/9.0 MB 282.5 kB/s eta 0:00:16\n",
      "     -------------------- ------------------- 4.7/9.0 MB 282.4 kB/s eta 0:00:16\n",
      "     -------------------- ------------------- 4.7/9.0 MB 282.4 kB/s eta 0:00:16\n",
      "     -------------------- ------------------- 4.7/9.0 MB 281.6 kB/s eta 0:00:16\n",
      "     --------------------- ------------------ 4.7/9.0 MB 281.3 kB/s eta 0:00:16\n",
      "     --------------------- ------------------ 4.7/9.0 MB 281.3 kB/s eta 0:00:16\n",
      "     --------------------- ------------------ 4.7/9.0 MB 280.6 kB/s eta 0:00:16\n",
      "     --------------------- ------------------ 4.8/9.0 MB 280.8 kB/s eta 0:00:16\n",
      "     --------------------- ------------------ 4.8/9.0 MB 280.5 kB/s eta 0:00:15\n",
      "     --------------------- ------------------ 4.8/9.0 MB 280.5 kB/s eta 0:00:15\n",
      "     --------------------- ------------------ 4.8/9.0 MB 280.2 kB/s eta 0:00:15\n",
      "     --------------------- ------------------ 4.8/9.0 MB 279.5 kB/s eta 0:00:15\n",
      "     --------------------- ------------------ 4.8/9.0 MB 279.5 kB/s eta 0:00:15\n",
      "     --------------------- ------------------ 4.8/9.0 MB 279.2 kB/s eta 0:00:15\n",
      "     --------------------- ------------------ 4.9/9.0 MB 279.6 kB/s eta 0:00:15\n",
      "     --------------------- ------------------ 4.9/9.0 MB 278.9 kB/s eta 0:00:15\n",
      "     --------------------- ------------------ 4.9/9.0 MB 278.9 kB/s eta 0:00:15\n",
      "     --------------------- ------------------ 4.9/9.0 MB 278.9 kB/s eta 0:00:15\n",
      "     --------------------- ------------------ 4.9/9.0 MB 278.9 kB/s eta 0:00:15\n",
      "     ---------------------- ----------------- 5.0/9.0 MB 278.6 kB/s eta 0:00:15\n",
      "     ---------------------- ----------------- 5.0/9.0 MB 279.4 kB/s eta 0:00:15\n",
      "     ---------------------- ----------------- 5.0/9.0 MB 279.3 kB/s eta 0:00:15\n",
      "     ---------------------- ----------------- 5.0/9.0 MB 279.5 kB/s eta 0:00:15\n",
      "     ---------------------- ----------------- 5.0/9.0 MB 279.1 kB/s eta 0:00:15\n",
      "     ---------------------- ----------------- 5.0/9.0 MB 279.1 kB/s eta 0:00:15\n",
      "     ---------------------- ----------------- 5.1/9.0 MB 278.8 kB/s eta 0:00:15\n",
      "     ---------------------- ----------------- 5.1/9.0 MB 277.9 kB/s eta 0:00:15\n",
      "     ---------------------- ----------------- 5.1/9.0 MB 278.1 kB/s eta 0:00:15\n",
      "     ---------------------- ----------------- 5.1/9.0 MB 278.2 kB/s eta 0:00:14\n",
      "     ---------------------- ----------------- 5.1/9.0 MB 277.8 kB/s eta 0:00:14\n",
      "     ---------------------- ----------------- 5.1/9.0 MB 278.0 kB/s eta 0:00:14\n",
      "     ---------------------- ----------------- 5.2/9.0 MB 277.6 kB/s eta 0:00:14\n",
      "     ----------------------- ---------------- 5.2/9.0 MB 277.8 kB/s eta 0:00:14\n",
      "     ----------------------- ---------------- 5.2/9.0 MB 277.8 kB/s eta 0:00:14\n",
      "     ----------------------- ---------------- 5.2/9.0 MB 278.0 kB/s eta 0:00:14\n",
      "     ----------------------- ---------------- 5.2/9.0 MB 277.6 kB/s eta 0:00:14\n",
      "     ----------------------- ---------------- 5.3/9.0 MB 278.6 kB/s eta 0:00:14\n",
      "     ----------------------- ---------------- 5.3/9.0 MB 279.0 kB/s eta 0:00:14\n",
      "     ----------------------- ---------------- 5.3/9.0 MB 279.0 kB/s eta 0:00:14\n",
      "     ----------------------- ---------------- 5.3/9.0 MB 278.9 kB/s eta 0:00:14\n",
      "     ----------------------- ---------------- 5.4/9.0 MB 279.5 kB/s eta 0:00:14\n",
      "     ----------------------- ---------------- 5.4/9.0 MB 280.2 kB/s eta 0:00:13\n",
      "     ------------------------ --------------- 5.4/9.0 MB 280.9 kB/s eta 0:00:13\n",
      "     ------------------------ --------------- 5.5/9.0 MB 282.3 kB/s eta 0:00:13\n",
      "     ------------------------ --------------- 5.5/9.0 MB 281.9 kB/s eta 0:00:13\n",
      "     ------------------------ --------------- 5.5/9.0 MB 282.1 kB/s eta 0:00:13\n",
      "     ------------------------ --------------- 5.5/9.0 MB 281.9 kB/s eta 0:00:13\n",
      "     ------------------------ --------------- 5.5/9.0 MB 282.4 kB/s eta 0:00:13\n",
      "     ------------------------ --------------- 5.6/9.0 MB 282.8 kB/s eta 0:00:13\n",
      "     ------------------------ --------------- 5.6/9.0 MB 283.0 kB/s eta 0:00:13\n",
      "     ------------------------- -------------- 5.6/9.0 MB 284.2 kB/s eta 0:00:12\n",
      "     ------------------------- -------------- 5.6/9.0 MB 283.8 kB/s eta 0:00:12\n",
      "     ------------------------- -------------- 5.7/9.0 MB 283.7 kB/s eta 0:00:12\n",
      "     ------------------------- -------------- 5.7/9.0 MB 283.6 kB/s eta 0:00:12\n",
      "     ------------------------- -------------- 5.7/9.0 MB 284.7 kB/s eta 0:00:12\n",
      "     ------------------------- -------------- 5.8/9.0 MB 285.2 kB/s eta 0:00:12\n",
      "     ------------------------- -------------- 5.8/9.0 MB 285.6 kB/s eta 0:00:12\n",
      "     ------------------------- -------------- 5.8/9.0 MB 286.1 kB/s eta 0:00:12\n",
      "     ------------------------- -------------- 5.8/9.0 MB 286.3 kB/s eta 0:00:12\n",
      "     -------------------------- ------------- 5.9/9.0 MB 286.5 kB/s eta 0:00:11\n",
      "     -------------------------- ------------- 5.9/9.0 MB 287.1 kB/s eta 0:00:11\n",
      "     -------------------------- ------------- 5.9/9.0 MB 287.1 kB/s eta 0:00:11\n",
      "     -------------------------- ------------- 5.9/9.0 MB 286.2 kB/s eta 0:00:11\n",
      "     -------------------------- ------------- 5.9/9.0 MB 286.4 kB/s eta 0:00:11\n",
      "     -------------------------- ------------- 6.0/9.0 MB 286.3 kB/s eta 0:00:11\n",
      "     -------------------------- ------------- 6.0/9.0 MB 285.9 kB/s eta 0:00:11\n",
      "     -------------------------- ------------- 6.0/9.0 MB 286.0 kB/s eta 0:00:11\n",
      "     -------------------------- ------------- 6.0/9.0 MB 285.7 kB/s eta 0:00:11\n",
      "     -------------------------- ------------- 6.0/9.0 MB 285.8 kB/s eta 0:00:11\n",
      "     -------------------------- ------------- 6.1/9.0 MB 286.0 kB/s eta 0:00:11\n",
      "     --------------------------- ------------ 6.1/9.0 MB 286.3 kB/s eta 0:00:11\n",
      "     --------------------------- ------------ 6.1/9.0 MB 286.7 kB/s eta 0:00:11\n",
      "     --------------------------- ------------ 6.1/9.0 MB 287.6 kB/s eta 0:00:10\n",
      "     --------------------------- ------------ 6.2/9.0 MB 288.9 kB/s eta 0:00:10\n",
      "     --------------------------- ------------ 6.2/9.0 MB 289.5 kB/s eta 0:00:10\n",
      "     --------------------------- ------------ 6.2/9.0 MB 289.6 kB/s eta 0:00:10\n",
      "     ---------------------------- ----------- 6.3/9.0 MB 290.7 kB/s eta 0:00:10\n",
      "     ---------------------------- ----------- 6.3/9.0 MB 292.3 kB/s eta 0:00:10\n",
      "     ---------------------------- ----------- 6.4/9.0 MB 293.1 kB/s eta 0:00:09\n",
      "     ---------------------------- ----------- 6.4/9.0 MB 293.2 kB/s eta 0:00:09\n",
      "     ---------------------------- ----------- 6.4/9.0 MB 293.3 kB/s eta 0:00:09\n",
      "     ---------------------------- ----------- 6.5/9.0 MB 293.6 kB/s eta 0:00:09\n",
      "     ---------------------------- ----------- 6.5/9.0 MB 293.5 kB/s eta 0:00:09\n",
      "     ---------------------------- ----------- 6.5/9.0 MB 293.4 kB/s eta 0:00:09\n",
      "     ----------------------------- ---------- 6.5/9.0 MB 294.2 kB/s eta 0:00:09\n",
      "     ----------------------------- ---------- 6.6/9.0 MB 294.8 kB/s eta 0:00:09\n",
      "     ----------------------------- ---------- 6.6/9.0 MB 296.1 kB/s eta 0:00:08\n",
      "     ----------------------------- ---------- 6.7/9.0 MB 296.6 kB/s eta 0:00:08\n",
      "     ----------------------------- ---------- 6.7/9.0 MB 297.1 kB/s eta 0:00:08\n",
      "     ----------------------------- ---------- 6.7/9.0 MB 297.9 kB/s eta 0:00:08\n",
      "     ------------------------------ --------- 6.8/9.0 MB 300.0 kB/s eta 0:00:08\n",
      "     ------------------------------ --------- 6.8/9.0 MB 300.8 kB/s eta 0:00:08\n",
      "     ------------------------------ --------- 6.9/9.0 MB 302.0 kB/s eta 0:00:08\n",
      "     ------------------------------ --------- 6.9/9.0 MB 302.8 kB/s eta 0:00:07\n",
      "     ------------------------------- -------- 7.0/9.0 MB 304.2 kB/s eta 0:00:07\n",
      "     ------------------------------- -------- 7.0/9.0 MB 305.6 kB/s eta 0:00:07\n",
      "     ------------------------------- -------- 7.1/9.0 MB 308.1 kB/s eta 0:00:07\n",
      "     ------------------------------- -------- 7.2/9.0 MB 310.4 kB/s eta 0:00:06\n",
      "     -------------------------------- ------- 7.2/9.0 MB 311.1 kB/s eta 0:00:06\n",
      "     -------------------------------- ------- 7.3/9.0 MB 312.7 kB/s eta 0:00:06\n",
      "     -------------------------------- ------- 7.3/9.0 MB 312.7 kB/s eta 0:00:06\n",
      "     -------------------------------- ------- 7.3/9.0 MB 313.2 kB/s eta 0:00:06\n",
      "     -------------------------------- ------- 7.3/9.0 MB 313.7 kB/s eta 0:00:06\n",
      "     -------------------------------- ------- 7.4/9.0 MB 313.3 kB/s eta 0:00:06\n",
      "     -------------------------------- ------- 7.4/9.0 MB 313.5 kB/s eta 0:00:06\n",
      "     --------------------------------- ------ 7.4/9.0 MB 314.4 kB/s eta 0:00:05\n",
      "     --------------------------------- ------ 7.5/9.0 MB 314.9 kB/s eta 0:00:05\n",
      "     --------------------------------- ------ 7.5/9.0 MB 315.0 kB/s eta 0:00:05\n",
      "     --------------------------------- ------ 7.5/9.0 MB 315.2 kB/s eta 0:00:05\n",
      "     --------------------------------- ------ 7.5/9.0 MB 315.7 kB/s eta 0:00:05\n",
      "     --------------------------------- ------ 7.6/9.0 MB 316.6 kB/s eta 0:00:05\n",
      "     --------------------------------- ------ 7.6/9.0 MB 316.8 kB/s eta 0:00:05\n",
      "     ---------------------------------- ----- 7.6/9.0 MB 317.1 kB/s eta 0:00:05\n",
      "     ---------------------------------- ----- 7.7/9.0 MB 317.7 kB/s eta 0:00:05\n",
      "     ---------------------------------- ----- 7.7/9.0 MB 318.2 kB/s eta 0:00:04\n",
      "     ---------------------------------- ----- 7.8/9.0 MB 318.4 kB/s eta 0:00:04\n",
      "     ---------------------------------- ----- 7.8/9.0 MB 318.5 kB/s eta 0:00:04\n",
      "     ---------------------------------- ----- 7.8/9.0 MB 318.7 kB/s eta 0:00:04\n",
      "     ---------------------------------- ----- 7.9/9.0 MB 319.6 kB/s eta 0:00:04\n",
      "     ----------------------------------- ---- 7.9/9.0 MB 319.4 kB/s eta 0:00:04\n",
      "     ----------------------------------- ---- 7.9/9.0 MB 319.4 kB/s eta 0:00:04\n",
      "     ----------------------------------- ---- 7.9/9.0 MB 319.6 kB/s eta 0:00:04\n",
      "     ----------------------------------- ---- 8.0/9.0 MB 320.1 kB/s eta 0:00:04\n",
      "     ----------------------------------- ---- 8.0/9.0 MB 320.9 kB/s eta 0:00:04\n",
      "     ----------------------------------- ---- 8.0/9.0 MB 320.9 kB/s eta 0:00:04\n",
      "     ----------------------------------- ---- 8.1/9.0 MB 321.3 kB/s eta 0:00:03\n",
      "     ----------------------------------- ---- 8.1/9.0 MB 321.6 kB/s eta 0:00:03\n",
      "     ------------------------------------ --- 8.1/9.0 MB 323.0 kB/s eta 0:00:03\n",
      "     ------------------------------------ --- 8.2/9.0 MB 324.2 kB/s eta 0:00:03\n",
      "     ------------------------------------ --- 8.3/9.0 MB 325.5 kB/s eta 0:00:03\n",
      "     ------------------------------------ --- 8.3/9.0 MB 326.1 kB/s eta 0:00:03\n",
      "     ------------------------------------- -- 8.3/9.0 MB 327.3 kB/s eta 0:00:02\n",
      "     ------------------------------------- -- 8.4/9.0 MB 327.7 kB/s eta 0:00:02\n",
      "     ------------------------------------- -- 8.4/9.0 MB 328.3 kB/s eta 0:00:02\n",
      "     ------------------------------------- -- 8.4/9.0 MB 328.1 kB/s eta 0:00:02\n",
      "     ------------------------------------- -- 8.4/9.0 MB 328.1 kB/s eta 0:00:02\n",
      "     ------------------------------------- -- 8.5/9.0 MB 327.7 kB/s eta 0:00:02\n",
      "     ------------------------------------- -- 8.5/9.0 MB 327.7 kB/s eta 0:00:02\n",
      "     ------------------------------------- -- 8.5/9.0 MB 327.5 kB/s eta 0:00:02\n",
      "     ------------------------------------- -- 8.5/9.0 MB 327.5 kB/s eta 0:00:02\n",
      "     ------------------------------------- -- 8.5/9.0 MB 327.5 kB/s eta 0:00:02\n",
      "     -------------------------------------- - 8.6/9.0 MB 328.1 kB/s eta 0:00:02\n",
      "     -------------------------------------- - 8.6/9.0 MB 328.1 kB/s eta 0:00:02\n",
      "     -------------------------------------- - 8.6/9.0 MB 327.3 kB/s eta 0:00:02\n",
      "     -------------------------------------- - 8.6/9.0 MB 327.1 kB/s eta 0:00:02\n",
      "     -------------------------------------- - 8.7/9.0 MB 327.5 kB/s eta 0:00:02\n",
      "     -------------------------------------- - 8.7/9.0 MB 327.5 kB/s eta 0:00:01\n",
      "     -------------------------------------- - 8.7/9.0 MB 327.3 kB/s eta 0:00:01\n",
      "     -------------------------------------- - 8.7/9.0 MB 327.7 kB/s eta 0:00:01\n",
      "     ---------------------------------------  8.8/9.0 MB 327.9 kB/s eta 0:00:01\n",
      "     ---------------------------------------  8.8/9.0 MB 327.9 kB/s eta 0:00:01\n",
      "     ---------------------------------------  8.8/9.0 MB 327.1 kB/s eta 0:00:01\n",
      "     ---------------------------------------  8.8/9.0 MB 327.5 kB/s eta 0:00:01\n",
      "     ---------------------------------------  8.8/9.0 MB 327.1 kB/s eta 0:00:01\n",
      "     ---------------------------------------  8.9/9.0 MB 327.3 kB/s eta 0:00:01\n",
      "     ---------------------------------------  8.9/9.0 MB 326.9 kB/s eta 0:00:01\n",
      "     ---------------------------------------  8.9/9.0 MB 327.3 kB/s eta 0:00:01\n",
      "     ---------------------------------------  8.9/9.0 MB 327.1 kB/s eta 0:00:01\n",
      "     ---------------------------------------  8.9/9.0 MB 327.1 kB/s eta 0:00:01\n",
      "     ---------------------------------------  9.0/9.0 MB 327.3 kB/s eta 0:00:01\n",
      "     ---------------------------------------  9.0/9.0 MB 327.5 kB/s eta 0:00:01\n",
      "     ---------------------------------------  9.0/9.0 MB 327.5 kB/s eta 0:00:01\n",
      "     ---------------------------------------- 9.0/9.0 MB 325.8 kB/s eta 0:00:00\n",
      "Requirement already satisfied: pandas>=0.25 in c:\\users\\lenovo\\appdata\\local\\packages\\pythonsoftwarefoundation.python.3.11_qbz5n2kfra8p0\\localcache\\local-packages\\python311\\site-packages (from statsmodels) (1.5.3)\n",
      "Collecting patsy>=0.5.2\n",
      "  Downloading patsy-0.5.3-py2.py3-none-any.whl (233 kB)\n",
      "     ---------------------------------------- 0.0/233.8 kB ? eta -:--:--\n",
      "     ---- -------------------------------- 30.7/233.8 kB 640.0 kB/s eta 0:00:01\n",
      "     --------- --------------------------- 61.4/233.8 kB 648.1 kB/s eta 0:00:01\n",
      "     ------------------ ----------------- 122.9/233.8 kB 717.5 kB/s eta 0:00:01\n",
      "     ---------------------------- ------- 184.3/233.8 kB 740.8 kB/s eta 0:00:01\n",
      "     ------------------------------------ 233.8/233.8 kB 714.4 kB/s eta 0:00:00\n",
      "Requirement already satisfied: packaging>=21.3 in c:\\users\\lenovo\\appdata\\local\\packages\\pythonsoftwarefoundation.python.3.11_qbz5n2kfra8p0\\localcache\\local-packages\\python311\\site-packages (from statsmodels) (23.0)\n",
      "Requirement already satisfied: scipy>=1.3 in c:\\users\\lenovo\\appdata\\local\\packages\\pythonsoftwarefoundation.python.3.11_qbz5n2kfra8p0\\localcache\\local-packages\\python311\\site-packages (from statsmodels) (1.10.0)\n",
      "Requirement already satisfied: numpy>=1.17 in c:\\users\\lenovo\\appdata\\local\\packages\\pythonsoftwarefoundation.python.3.11_qbz5n2kfra8p0\\localcache\\local-packages\\python311\\site-packages (from statsmodels) (1.24.1)\n",
      "Requirement already satisfied: python-dateutil>=2.8.1 in c:\\users\\lenovo\\appdata\\local\\packages\\pythonsoftwarefoundation.python.3.11_qbz5n2kfra8p0\\localcache\\local-packages\\python311\\site-packages (from pandas>=0.25->statsmodels) (2.8.2)\n",
      "Requirement already satisfied: pytz>=2020.1 in c:\\users\\lenovo\\appdata\\local\\packages\\pythonsoftwarefoundation.python.3.11_qbz5n2kfra8p0\\localcache\\local-packages\\python311\\site-packages (from pandas>=0.25->statsmodels) (2022.7.1)\n",
      "Requirement already satisfied: six in c:\\users\\lenovo\\appdata\\local\\packages\\pythonsoftwarefoundation.python.3.11_qbz5n2kfra8p0\\localcache\\local-packages\\python311\\site-packages (from patsy>=0.5.2->statsmodels) (1.16.0)\n",
      "Installing collected packages: patsy, statsmodels\n",
      "Successfully installed patsy-0.5.3 statsmodels-0.13.5\n",
      "Note: you may need to restart the kernel to use updated packages.\n"
     ]
    }
   ],
   "source": [
    "pip install statsmodels"
   ]
  },
  {
   "cell_type": "code",
   "execution_count": 81,
   "id": "2f7d31d9-78d0-49d4-8ef7-abd57486e14e",
   "metadata": {},
   "outputs": [],
   "source": [
    "import statsmodels.api as sm"
   ]
  },
  {
   "cell_type": "code",
   "execution_count": 82,
   "id": "6e231d39-5880-43bd-9ce5-d097287cd904",
   "metadata": {},
   "outputs": [],
   "source": [
    "X_train_constant = sm.add_constant(X_train)"
   ]
  },
  {
   "cell_type": "code",
   "execution_count": 83,
   "id": "06d2cf50-b3ab-4190-aa8d-2c3d0d5a63f4",
   "metadata": {},
   "outputs": [],
   "source": [
    "model = sm.OLS(y_train, X_train_constant).fit()"
   ]
  },
  {
   "cell_type": "code",
   "execution_count": 84,
   "id": "1515fc8e-9ffd-4882-8794-c2e8f978817f",
   "metadata": {},
   "outputs": [
    {
     "data": {
      "text/plain": [
       "const    6.853618\n",
       "x1       0.050119\n",
       "dtype: float64"
      ]
     },
     "execution_count": 84,
     "metadata": {},
     "output_type": "execute_result"
    }
   ],
   "source": [
    "model.params"
   ]
  },
  {
   "cell_type": "code",
   "execution_count": 85,
   "id": "870dc6f3-9c56-413e-9a97-10975f0bafab",
   "metadata": {},
   "outputs": [
    {
     "name": "stdout",
     "output_type": "stream",
     "text": [
      "                            OLS Regression Results                            \n",
      "==============================================================================\n",
      "Dep. Variable:                  Sales   R-squared:                       0.612\n",
      "Model:                            OLS   Adj. R-squared:                  0.609\n",
      "Method:                 Least Squares   F-statistic:                     208.4\n",
      "Date:                Sun, 05 Feb 2023   Prob (F-statistic):           6.22e-29\n",
      "Time:                        12:24:14   Log-Likelihood:                -352.27\n",
      "No. Observations:                 134   AIC:                             708.5\n",
      "Df Residuals:                     132   BIC:                             714.3\n",
      "Df Model:                           1                                         \n",
      "Covariance Type:            nonrobust                                         \n",
      "==============================================================================\n",
      "                 coef    std err          t      P>|t|      [0.025      0.975]\n",
      "------------------------------------------------------------------------------\n",
      "const          6.8536      0.590     11.609      0.000       5.686       8.021\n",
      "x1             0.0501      0.003     14.435      0.000       0.043       0.057\n",
      "==============================================================================\n",
      "Omnibus:                        2.223   Durbin-Watson:                   2.155\n",
      "Prob(Omnibus):                  0.329   Jarque-Bera (JB):                2.225\n",
      "Skew:                          -0.304   Prob(JB):                        0.329\n",
      "Kurtosis:                       2.832   Cond. No.                         344.\n",
      "==============================================================================\n",
      "\n",
      "Notes:\n",
      "[1] Standard Errors assume that the covariance matrix of the errors is correctly specified.\n"
     ]
    }
   ],
   "source": [
    "print(model.summary())"
   ]
  },
  {
   "cell_type": "code",
   "execution_count": 86,
   "id": "07f03949-3014-43f8-b296-8eb595202fc8",
   "metadata": {},
   "outputs": [
    {
     "data": {
      "image/png": "[encoded data removed]",
      "text/plain": [
       "<Figure size 640x480 with 1 Axes>"
      ]
     },
     "metadata": {},
     "output_type": "display_data"
    }
   ],
   "source": [
    "plt.scatter(X_train, y_train)\n",
    "plt.plot(X_train, 6.9955 + 0.0541 * X_train, 'y')\n",
    "plt.show()"
   ]
  },
  {
   "cell_type": "code",
   "execution_count": 87,
   "id": "aa4f7177-ed9e-4436-817c-7bf0f3f58045",
   "metadata": {},
   "outputs": [
    {
     "data": {
      "text/plain": [
       "166    0.249258\n",
       "143   -1.696030\n",
       "111    2.832701\n",
       "182   -0.970287\n",
       "185    5.472056\n",
       "         ...   \n",
       "104    1.908116\n",
       "160   -1.099088\n",
       "163    2.951980\n",
       "43    -4.323170\n",
       "100   -6.300009\n",
       "Name: Sales, Length: 134, dtype: float64"
      ]
     },
     "execution_count": 87,
     "metadata": {},
     "output_type": "execute_result"
    }
   ],
   "source": [
    "y_train_pred = model.predict(X_train_constant)\n",
    "res = (y_train - y_train_pred)\n",
    "res"
   ]
  },
  {
   "cell_type": "code",
   "execution_count": 88,
   "id": "faf60caa-04ee-4dd6-b9f1-0f7dd7511dbb",
   "metadata": {},
   "outputs": [
    {
     "data": {
      "text/plain": [
       "array([ 7.75074213, 12.09603033, 18.96729921,  9.67028697, 17.12794423,\n",
       "       12.89291709, 12.6673831 , 11.88553194, 17.21815782,  7.51518441,\n",
       "       17.86970046,  7.12425883, 10.67767213, 10.77289759, 16.82222038,\n",
       "       18.75178895, 12.35664738, 13.62966146, 12.35664738,  8.43235596,\n",
       "        8.13665585, 18.08019885, 18.88710935, 17.61409527, 11.55976062,\n",
       "       10.25166348, 15.43894524, 10.68268399,  8.19679824, 15.72462163,\n",
       "        8.23188131, 18.28067351, 18.24057858, 18.87708561, 12.91797642,\n",
       "       13.83013611, 10.68268399, 18.3558515 , 15.65946736, 15.62939616,\n",
       "       14.01557517, 11.64997422, 17.08283743, 16.12055907,  7.27461482,\n",
       "       15.72462163, 13.76498185,  9.01373247,  7.24454362, 15.09813832,\n",
       "       20.89686779, 16.64680505, 21.70879015,  7.44000641, 19.57373505,\n",
       "        9.53496658, 20.23028955, 14.35638209,  7.71565906,  7.28463855,\n",
       "       13.58455466,  7.28965042, 20.72145246, 10.61752973,  7.83594386,\n",
       "       17.00264757, 13.83514798, 14.36139396, 11.74018781,  9.27434953,\n",
       "       18.60644483,  9.09392233, 16.86732717, 13.45424613, 17.54894101,\n",
       "        8.28701184, 21.2677459 , 19.94962503, 10.28173468, 21.06727125,\n",
       "       12.51201524, 10.16646175, 20.01979116, 18.75178895, 10.39199574,\n",
       "       17.41362062, 16.83224411, 14.2360973 , 20.16513529, 19.42839092,\n",
       "        9.35955126, 18.84701442, 11.57479622, 15.29360111, 17.89475979,\n",
       "       14.44659569,  7.05910456, 17.71934447,  7.71565906, 16.00528615,\n",
       "        6.8887011 , 20.73147619, 11.38434529, 21.42311376, 17.90478353,\n",
       "       11.34926223,  9.0838986 , 12.00080487, 11.14878757, 11.67503355,\n",
       "       18.48616003, 11.2790961 , 13.42417493, 17.64917834, 16.27091507,\n",
       "        9.73544124, 16.75706611, 16.2659032 , 13.84517171, 15.21341125,\n",
       "        9.84069043, 16.12055907, 21.3729951 , 12.7275255 , 20.02981489,\n",
       "       16.56160332, 17.55395288, 21.56845789, 15.38381471, 18.79188388,\n",
       "       15.49908764, 15.04801966, 17.22316969, 18.00000899])"
      ]
     },
     "execution_count": 88,
     "metadata": {},
     "output_type": "execute_result"
    }
   ],
   "source": [
    "y_train_pred"
   ]
  },
  {
   "cell_type": "code",
   "execution_count": 89,
   "id": "17256969-6e6b-4424-a9cc-23b88df3542b",
   "metadata": {},
   "outputs": [
    {
     "data": {
      "image/png": "[encoded data removed]",
      "text/plain": [
       "<Figure size 640x480 with 1 Axes>"
      ]
     },
     "metadata": {},
     "output_type": "display_data"
    }
   ],
   "source": [
    "fig = plt.figure()\n",
    "sns.distplot(res, bins = 15)\n",
    "fig.suptitle('Error Terms', fontsize = 15)\n",
    "plt.xlabel('Difference in y_train and y_train_pred', fontsize = 15)\n",
    "plt.show()"
   ]
  },
  {
   "cell_type": "code",
   "execution_count": 90,
   "id": "47fc974a-d640-493f-b59d-295abb2d3579",
   "metadata": {},
   "outputs": [
    {
     "data": {
      "image/png": "[encoded data removed]",
      "text/plain": [
       "<Figure size 640x480 with 1 Axes>"
      ]
     },
     "metadata": {},
     "output_type": "display_data"
    }
   ],
   "source": [
    "plt.scatter(X_train, res)\n",
    "plt.show()"
   ]
  },
  {
   "cell_type": "code",
   "execution_count": 91,
   "id": "d569daaa-adac-43c2-9a20-cb4fb465473b",
   "metadata": {},
   "outputs": [],
   "source": [
    "X_test_constant = sm.add_constant(X_test)\n",
    "y_pred = model.predict(X_test_constant)\n",
    "     "
   ]
  },
  {
   "cell_type": "code",
   "execution_count": 92,
   "id": "6dbb6a2a-ec98-441d-ba22-75291db622f4",
   "metadata": {},
   "outputs": [
    {
     "data": {
      "text/plain": [
       "array([13.88526665, 17.79953433, 21.53337482,  8.70299675, 12.23636259,\n",
       "       11.72515221,  8.75812728, 19.65392491, 15.91507255,  8.11159651,\n",
       "       17.699297  , 17.76445127, 12.87788149,  7.70062347,  8.83330528,\n",
       "        8.76815102, 21.10235431, 21.18755604, 10.62755346,  7.51017254,\n",
       "       13.02322562,  8.04644225, 13.15353415, 17.35849008, 17.8045462 ,\n",
       "       18.88710935, 17.41863248, 10.20655668,  7.21948429, 20.14508782,\n",
       "       10.31180588,  9.97601083, 16.53654399, 19.04247721, 10.87313492,\n",
       "       16.43129479, 20.57109647,  8.10658465, 16.2959744 , 15.03799593,\n",
       "       11.22396557, 13.67978012, 10.532328  , 13.93538531, 18.3859227 ,\n",
       "       18.17041245, 12.40175418, 19.32314173, 13.3389732 , 10.59748226,\n",
       "       18.29570911, 10.32182961, 18.00000899,  7.82592013, 20.95701018,\n",
       "        7.79584893, 14.70220087, 10.6375772 , 15.15326885, 20.92192712,\n",
       "        9.0087206 , 19.30309426, 16.75706611, 18.87207375, 16.86732717,\n",
       "        7.79083706])"
      ]
     },
     "execution_count": 92,
     "metadata": {},
     "output_type": "execute_result"
    }
   ],
   "source": [
    "y_pred"
   ]
  },
  {
   "cell_type": "code",
   "execution_count": 93,
   "id": "24906351-77f7-4008-904e-7163419934a9",
   "metadata": {},
   "outputs": [],
   "source": [
    "from sklearn.metrics import mean_squared_error\n",
    "from sklearn.metrics import r2_score"
   ]
  },
  {
   "cell_type": "code",
   "execution_count": 94,
   "id": "18499a09-d04c-4cf2-b737-925b394cd0ad",
   "metadata": {},
   "outputs": [
    {
     "data": {
      "text/plain": [
       "3.048805568636121"
      ]
     },
     "execution_count": 94,
     "metadata": {},
     "output_type": "execute_result"
    }
   ],
   "source": [
    "np.sqrt(mean_squared_error(y_test, y_pred))"
   ]
  },
  {
   "cell_type": "code",
   "execution_count": 95,
   "id": "5a64a91c-b084-405f-9ef4-230ca401fc18",
   "metadata": {},
   "outputs": [
    {
     "data": {
      "text/plain": [
       "0.5932760571329709"
      ]
     },
     "execution_count": 95,
     "metadata": {},
     "output_type": "execute_result"
    }
   ],
   "source": [
    "r2 = r2_score(y_test, y_pred)\n",
    "r2"
   ]
  },
  {
   "cell_type": "code",
   "execution_count": 96,
   "id": "fe4861f6-fd4e-4fd4-81dc-8f20930291dd",
   "metadata": {},
   "outputs": [
    {
     "data": {
      "image/png": "[encoded data removed]",
      "text/plain": [
       "<Figure size 640x480 with 1 Axes>"
      ]
     },
     "metadata": {},
     "output_type": "display_data"
    }
   ],
   "source": [
    "plt.scatter(X_test, y_test)\n",
    "plt.plot(X_test, 6.9955 + 0.0541 * X_test, 'y')\n",
    "plt.show()"
   ]
  },
  {
   "cell_type": "code",
   "execution_count": null,
   "id": "2e81cd3c-e782-46d4-a708-3c244091268a",
   "metadata": {},
   "outputs": [],
   "source": []
  }
 ],
 "metadata": {
  "kernelspec": {
   "display_name": "Python 3 (ipykernel)",
   "language": "python",
   "name": "python3"
  },
  "language_info": {
   "codemirror_mode": {
    "name": "ipython",
    "version": 3
   },
   "file_extension": ".py",
   "mimetype": "text/x-python",
   "name": "python",
   "nbconvert_exporter": "python",
   "pygments_lexer": "ipython3",
   "version": "3.11.1"
  }
 },
 "nbformat": 4,
 "nbformat_minor": 5
}
